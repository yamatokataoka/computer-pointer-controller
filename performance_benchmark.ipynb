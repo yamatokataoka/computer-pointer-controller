{
 "cells": [
  {
   "cell_type": "markdown",
   "metadata": {},
   "source": [
    "# Computer Pointer Controller\n",
    "\n",
    "## Overview\n",
    "In this notebook, we will request an **IEI Tank-870** edge node and run inference on the different hardware types (CPU, GPU, VPU, FPGA) for benchmarks on Computer Pointer Controller project.\n",
    "\n",
    "After the inference is completed, the output video and stats files need to be retrieved and stored in the workspace, which can then be viewed within the Jupyter Notebook."
   ]
  },
  {
   "cell_type": "markdown",
   "metadata": {},
   "source": [
    "## Step 0: Set Up\n",
    "\n",
    "#### IMPORTANT: Set up paths so we can run Dev Cloud utilities\n",
    "You *must* run this every time you enter a Workspace session.\n",
    "(Tip: select the cell and use **Shift+Enter** to run the cell.)"
   ]
  },
  {
   "cell_type": "code",
   "execution_count": 4,
   "metadata": {},
   "outputs": [
    {
     "name": "stdout",
     "output_type": "stream",
     "text": [
      "env: PATH=/opt/conda/bin:/opt/spark-2.4.3-bin-hadoop2.7/bin:/opt/conda/bin:/usr/local/sbin:/usr/local/bin:/usr/sbin:/usr/bin:/sbin:/bin:/opt/intel_devcloud_support\n"
     ]
    }
   ],
   "source": [
    "%env PATH=/opt/conda/bin:/opt/spark-2.4.3-bin-hadoop2.7/bin:/opt/conda/bin:/usr/local/sbin:/usr/local/bin:/usr/sbin:/usr/bin:/sbin:/bin:/opt/intel_devcloud_support\n",
    "import os\n",
    "import sys\n",
    "sys.path.insert(0, os.path.abspath('/opt/intel_devcloud_support'))\n",
    "sys.path.insert(0, os.path.abspath('/opt/intel'))"
   ]
  },
  {
   "cell_type": "markdown",
   "metadata": {},
   "source": [
    "Then set up for intel devcloud cloning github project."
   ]
  },
  {
   "cell_type": "markdown",
   "metadata": {},
   "source": [
    "### Step 0.1:  (Optional-step): Original Video\n",
    "\n",
    "If you are curious to see the input video, run the following cell to view the original video stream we'll be using for inference."
   ]
  },
  {
   "cell_type": "code",
   "execution_count": 5,
   "metadata": {},
   "outputs": [
    {
     "data": {
      "text/html": [
       "<h5>Demo</h5>\n",
       "        <video alt=\"\" controls autoplay muted height=\"480\"><source src=\"bin/demo.mp4\" type=\"video/mp4\" /></video>\n",
       "        "
      ],
      "text/plain": [
       "<IPython.core.display.HTML object>"
      ]
     },
     "execution_count": 5,
     "metadata": {},
     "output_type": "execute_result"
    }
   ],
   "source": [
    "import videoHtml\n",
    "videoHtml.videoHTML('Demo', ['bin/demo.mp4'])"
   ]
  },
  {
   "cell_type": "markdown",
   "metadata": {},
   "source": [
    "## Step 1 : Inference on a Video\n",
    "\n",
    "In the next few cells, You'll submit your job using the `qsub` command and retrieve the results for each job. Each of the cells below should submit a job to different edge compute nodes.\n",
    "\n",
    "The output of the cell is the `JobID` of your job, which you can use to track progress of a job with `liveQStat`.\n",
    "\n",
    "You will need to submit a job for each of the following hardware types:\n",
    "* **CPU**\n",
    "* **GPU**\n",
    "* **VPU**\n",
    "* **FPGA**\n",
    "\n",
    "**Note:** You will have to submit each job one at a time and retrieve their results. \n",
    "\n",
    "After submission, they will go into a queue and run as soon as the requested compute resources become available. \n",
    "(Tip: **shift+enter** will run the cell and automatically move you to the next cell.)\n",
    "\n",
    "If your job successfully runs and completes, once you retrieve your results, it should output a video and a stats text file in the `results/<DEVICE>` directory.\n",
    "\n",
    "For example, your **CPU** job should output its files in this directory:\n",
    "> **results/cpu**\n",
    "\n",
    "**Note**: To get the queue labels for the different hardware devices, you can go to [this link](https://devcloud.intel.com/edge/get_started/devcloud/).\n",
    "\n",
    "The following arguments should be passed to the job submission script after the `-F` flag:\n",
    "* Device - `CPU`, `GPU`, `MYRIAD`, `HETERO:FPGA,CPU`.\n",
    "* Demo video path - `bin/demo.mp4`.\n",
    "* Output path - `/output/results/<DEVICE>` This should be adjusted based on the device used in the job."
   ]
  },
  {
   "cell_type": "markdown",
   "metadata": {},
   "source": [
    "## INT8"
   ]
  },
  {
   "cell_type": "markdown",
   "metadata": {},
   "source": [
    "## Step 1.1: Submit to an Edge Compute Node with an Intel CPU\n",
    "In the cell below, write a script to submit a job to an <a \n",
    "    href=\"https://software.intel.com/en-us/iot/hardware/iei-tank-dev-kit-core\">IEI \n",
    "    Tank* 870-Q170</a> edge node with an <a \n",
    "    href=\"https://ark.intel.com/products/88186/Intel-Core-i5-6500TE-Processor-6M-Cache-up-to-3-30-GHz-\">Intel Core™ i5-6500TE processor</a>. The inference workload should run on the CPU."
   ]
  },
  {
   "cell_type": "code",
   "execution_count": 5,
   "metadata": {},
   "outputs": [
    {
     "name": "stdout",
     "output_type": "stream",
     "text": [
      "ukoCSekuWzPrvVSLTDZ77FdFLBUuciGF\n"
     ]
    }
   ],
   "source": [
    "#Submit job to the queue\n",
    "cpu_job_id = !qsub queue_job.sh -d . -l nodes=1:tank-870:i5-6500te -F \"CPU /output/results/INT8/cpu INT8\"\n",
    "\n",
    "print(cpu_job_id[0])"
   ]
  },
  {
   "cell_type": "markdown",
   "metadata": {},
   "source": [
    "#### Check Job Status\n",
    "\n",
    "To check on the job that was submitted, use `liveQStat` to check the status of the job.\n",
    "\n",
    "Column `S` shows the state of your running jobs.\n",
    "\n",
    "For example:\n",
    "- If `JOB ID`is in Q state, it is in the queue waiting for available resources.\n",
    "- If `JOB ID` is in R state, it is running."
   ]
  },
  {
   "cell_type": "code",
   "execution_count": 6,
   "metadata": {},
   "outputs": [],
   "source": [
    "import liveQStat\n",
    "liveQStat.liveQStat()"
   ]
  },
  {
   "cell_type": "markdown",
   "metadata": {},
   "source": [
    "#### Get Results\n",
    "\n",
    "Run the next cell to retrieve your job's results."
   ]
  },
  {
   "cell_type": "code",
   "execution_count": 7,
   "metadata": {},
   "outputs": [
    {
     "name": "stdout",
     "output_type": "stream",
     "text": [
      "getResults() is blocking until results of the job (id:ukoCSekuWzPrvVSLTDZ77FdFLBUuciGF) are ready.\n",
      "Please wait......Success!\n",
      "output.tgz was downloaded in the same folder as this notebook.\n"
     ]
    }
   ],
   "source": [
    "import get_results\n",
    "get_results.getResults(cpu_job_id[0], filename='output.tgz', blocking=True)"
   ]
  },
  {
   "cell_type": "markdown",
   "metadata": {},
   "source": [
    "#### Unpack your output files and view stdout.log"
   ]
  },
  {
   "cell_type": "code",
   "execution_count": 8,
   "metadata": {},
   "outputs": [],
   "source": [
    "!tar zxf output.tgz"
   ]
  },
  {
   "cell_type": "code",
   "execution_count": 9,
   "metadata": {},
   "outputs": [
    {
     "name": "stdout",
     "output_type": "stream",
     "text": [
      "Archive:  benchmark.zip\r\n",
      "491ce158c304beea0d40a6306599592d4db96970\r\n",
      "   creating: computer-pointer-controller-benchmark/\r\n",
      "  inflating: computer-pointer-controller-benchmark/.gitignore  \r\n",
      "  inflating: computer-pointer-controller-benchmark/README.md  \r\n",
      "   creating: computer-pointer-controller-benchmark/bin/\r\n",
      " extracting: computer-pointer-controller-benchmark/bin/.gitkeep  \r\n",
      "  inflating: computer-pointer-controller-benchmark/bin/demo.mp4  \r\n",
      "   creating: computer-pointer-controller-benchmark/intel/\r\n",
      "   creating: computer-pointer-controller-benchmark/intel/face-detection-adas-binary-0001/\r\n",
      "   creating: computer-pointer-controller-benchmark/intel/face-detection-adas-binary-0001/INT1/\r\n",
      "  inflating: computer-pointer-controller-benchmark/intel/face-detection-adas-binary-0001/INT1/face-detection-adas-binary-0001.bin  \r\n",
      "  inflating: computer-pointer-controller-benchmark/intel/face-detection-adas-binary-0001/INT1/face-detection-adas-binary-0001.xml  \r\n",
      "   creating: computer-pointer-controller-benchmark/intel/gaze-estimation-adas-0002/\r\n",
      "   creating: computer-pointer-controller-benchmark/intel/gaze-estimation-adas-0002/FP16/\r\n",
      "  inflating: computer-pointer-controller-benchmark/intel/gaze-estimation-adas-0002/FP16/gaze-estimation-adas-0002.bin  \r\n",
      "  inflating: computer-pointer-controller-benchmark/intel/gaze-estimation-adas-0002/FP16/gaze-estimation-adas-0002.xml  \r\n",
      "   creating: computer-pointer-controller-benchmark/intel/gaze-estimation-adas-0002/FP32/\r\n",
      "  inflating: computer-pointer-controller-benchmark/intel/gaze-estimation-adas-0002/FP32/gaze-estimation-adas-0002.bin  \r\n",
      "  inflating: computer-pointer-controller-benchmark/intel/gaze-estimation-adas-0002/FP32/gaze-estimation-adas-0002.xml  \r\n",
      "   creating: computer-pointer-controller-benchmark/intel/gaze-estimation-adas-0002/INT8/\r\n",
      "  inflating: computer-pointer-controller-benchmark/intel/gaze-estimation-adas-0002/INT8/gaze-estimation-adas-0002.bin  \r\n",
      "  inflating: computer-pointer-controller-benchmark/intel/gaze-estimation-adas-0002/INT8/gaze-estimation-adas-0002.xml  \r\n",
      "   creating: computer-pointer-controller-benchmark/intel/head-pose-estimation-adas-0001/\r\n",
      "   creating: computer-pointer-controller-benchmark/intel/head-pose-estimation-adas-0001/FP16/\r\n",
      "  inflating: computer-pointer-controller-benchmark/intel/head-pose-estimation-adas-0001/FP16/head-pose-estimation-adas-0001.bin  \r\n",
      "  inflating: computer-pointer-controller-benchmark/intel/head-pose-estimation-adas-0001/FP16/head-pose-estimation-adas-0001.xml  \r\n",
      "   creating: computer-pointer-controller-benchmark/intel/head-pose-estimation-adas-0001/FP32/\r\n",
      "  inflating: computer-pointer-controller-benchmark/intel/head-pose-estimation-adas-0001/FP32/head-pose-estimation-adas-0001.bin  \r\n",
      "  inflating: computer-pointer-controller-benchmark/intel/head-pose-estimation-adas-0001/FP32/head-pose-estimation-adas-0001.xml  \r\n",
      "   creating: computer-pointer-controller-benchmark/intel/landmarks-regression-retail-0009/\r\n",
      "   creating: computer-pointer-controller-benchmark/intel/landmarks-regression-retail-0009/FP16/\r\n",
      "  inflating: computer-pointer-controller-benchmark/intel/landmarks-regression-retail-0009/FP16/landmarks-regression-retail-0009.bin  \r\n",
      "  inflating: computer-pointer-controller-benchmark/intel/landmarks-regression-retail-0009/FP16/landmarks-regression-retail-0009.xml  \r\n",
      "   creating: computer-pointer-controller-benchmark/intel/landmarks-regression-retail-0009/FP32/\r\n",
      "  inflating: computer-pointer-controller-benchmark/intel/landmarks-regression-retail-0009/FP32/landmarks-regression-retail-0009.bin  \r\n",
      "  inflating: computer-pointer-controller-benchmark/intel/landmarks-regression-retail-0009/FP32/landmarks-regression-retail-0009.xml  \r\n",
      "  inflating: computer-pointer-controller-benchmark/requirements.txt  \r\n",
      "   creating: computer-pointer-controller-benchmark/src/\r\n",
      "  inflating: computer-pointer-controller-benchmark/src/face_detection.py  \r\n",
      "  inflating: computer-pointer-controller-benchmark/src/facial_landmarks_detection.py  \r\n",
      "  inflating: computer-pointer-controller-benchmark/src/gaze_estimation.py  \r\n",
      "  inflating: computer-pointer-controller-benchmark/src/head_pose_estimation.py  \r\n",
      "  inflating: computer-pointer-controller-benchmark/src/input_feeder.py  \r\n",
      "  inflating: computer-pointer-controller-benchmark/src/main.py  \r\n",
      "  inflating: computer-pointer-controller-benchmark/src/model.py  \r\n",
      "  inflating: computer-pointer-controller-benchmark/src/mouse_controller.py  \r\n",
      "results/\r\n",
      "results/INT8/\r\n",
      "results/INT8/cpu/\r\n",
      "results/INT8/cpu/stats.txt\r\n",
      "results/INT8/cpu/out.mp4\r\n",
      "stderr.log\r\n"
     ]
    }
   ],
   "source": [
    "!cat stdout.log"
   ]
  },
  {
   "cell_type": "markdown",
   "metadata": {},
   "source": [
    "#### View stderr.log\n",
    "This can be used for debugging."
   ]
  },
  {
   "cell_type": "code",
   "execution_count": 10,
   "metadata": {},
   "outputs": [
    {
     "name": "stdout",
     "output_type": "stream",
     "text": [
      "  % Total    % Received % Xferd  Average Speed   Time    Time     Time  Current\r\n",
      "                                 Dload  Upload   Total   Spent    Left  Speed\r\n",
      "100   149  100   149    0     0   1079      0 --:--:-- --:--:-- --:--:--  1087\r\n",
      "100 31.4M  100 31.4M    0     0  2086k      0  0:00:15  0:00:15 --:--:-- 2450k\r\n",
      "INFO:root:The face-detection-adas-binary-0001 always use INT1 precision\r\n",
      "/submission/computer-pointer-controller-benchmark/src/model.py:30: DeprecationWarning: Reading network using constructor is deprecated. Please, use IECore.read_network() method instead\r\n",
      "  self.network = IENetwork(model=model_xml, weights=model_bin)\r\n",
      "ERROR:root:Cannot load library '/opt/intel/openvino/deployment_tools/inference_engine/lib/intel64/libcpu_extension_sse4.so': /opt/intel/openvino/deployment_tools/inference_engine/lib/intel64/libcpu_extension_sse4.so: cannot open shared object file: No such file or directory\r\n",
      "DEBUG:root:IR successfully loaded ../intel/face-detection-adas-binary-0001/INT1/face-detection-adas-binary-0001.xml into Inference Engine.\r\n",
      "/submission/computer-pointer-controller-benchmark/src/model.py:30: DeprecationWarning: Reading network using constructor is deprecated. Please, use IECore.read_network() method instead\r\n",
      "  self.network = IENetwork(model=model_xml, weights=model_bin)\r\n",
      "ERROR:root:Cannot load library '/opt/intel/openvino/deployment_tools/inference_engine/lib/intel64/libcpu_extension_sse4.so': /opt/intel/openvino/deployment_tools/inference_engine/lib/intel64/libcpu_extension_sse4.so: cannot open shared object file: No such file or directory\r\n",
      "DEBUG:root:IR successfully loaded ../intel/landmarks-regression-retail-0009/FP16/landmarks-regression-retail-0009.xml into Inference Engine.\r\n",
      "/submission/computer-pointer-controller-benchmark/src/model.py:30: DeprecationWarning: Reading network using constructor is deprecated. Please, use IECore.read_network() method instead\r\n",
      "  self.network = IENetwork(model=model_xml, weights=model_bin)\r\n",
      "ERROR:root:Cannot load library '/opt/intel/openvino/deployment_tools/inference_engine/lib/intel64/libcpu_extension_sse4.so': /opt/intel/openvino/deployment_tools/inference_engine/lib/intel64/libcpu_extension_sse4.so: cannot open shared object file: No such file or directory\r\n",
      "DEBUG:root:IR successfully loaded ../intel/head-pose-estimation-adas-0001/FP16/head-pose-estimation-adas-0001.xml into Inference Engine.\r\n",
      "/submission/computer-pointer-controller-benchmark/src/model.py:30: DeprecationWarning: Reading network using constructor is deprecated. Please, use IECore.read_network() method instead\r\n",
      "  self.network = IENetwork(model=model_xml, weights=model_bin)\r\n",
      "ERROR:root:Cannot load library '/opt/intel/openvino/deployment_tools/inference_engine/lib/intel64/libcpu_extension_sse4.so': /opt/intel/openvino/deployment_tools/inference_engine/lib/intel64/libcpu_extension_sse4.so: cannot open shared object file: No such file or directory\r\n",
      "DEBUG:root:IR successfully loaded ../intel/gaze-estimation-adas-0002/INT8/gaze-estimation-adas-0002.xml into Inference Engine.\r\n",
      "INFO:root:Current Frame: 30 / 595\r\n",
      "DEBUG:root:mouse_point[_X], mouse_point[_Y]: 1756, 118\r\n",
      "INFO:root:Current Frame: 60 / 595\r\n",
      "DEBUG:root:mouse_point[_X], mouse_point[_Y]: 936, 143\r\n",
      "INFO:root:Current Frame: 90 / 595\r\n",
      "DEBUG:root:mouse_point[_X], mouse_point[_Y]: 509, 702\r\n",
      "INFO:root:Current Frame: 120 / 595\r\n",
      "DEBUG:root:mouse_point[_X], mouse_point[_Y]: 579, 683\r\n",
      "INFO:root:Current Frame: 150 / 595\r\n",
      "DEBUG:root:mouse_point[_X], mouse_point[_Y]: 1616, 607\r\n",
      "INFO:root:Current Frame: 180 / 595\r\n",
      "DEBUG:root:mouse_point[_X], mouse_point[_Y]: 1706, 159\r\n",
      "INFO:root:Current Frame: 210 / 595\r\n",
      "DEBUG:root:mouse_point[_X], mouse_point[_Y]: 1633, 194\r\n",
      "INFO:root:Current Frame: 240 / 595\r\n",
      "DEBUG:root:mouse_point[_X], mouse_point[_Y]: 1570, 222\r\n",
      "INFO:root:Current Frame: 270 / 595\r\n",
      "DEBUG:root:mouse_point[_X], mouse_point[_Y]: 1441, 525\r\n",
      "INFO:root:Current Frame: 300 / 595\r\n",
      "DEBUG:root:mouse_point[_X], mouse_point[_Y]: 1900, 31\r\n",
      "INFO:root:Current Frame: 330 / 595\r\n",
      "DEBUG:root:mouse_point[_X], mouse_point[_Y]: 693, 23\r\n",
      "INFO:root:Current Frame: 360 / 595\r\n",
      "DEBUG:root:mouse_point[_X], mouse_point[_Y]: 421, 33\r\n",
      "INFO:root:Current Frame: 390 / 595\r\n",
      "DEBUG:root:mouse_point[_X], mouse_point[_Y]: 1549, 208\r\n",
      "INFO:root:Current Frame: 420 / 595\r\n",
      "DEBUG:root:mouse_point[_X], mouse_point[_Y]: 1289, 698\r\n",
      "INFO:root:Current Frame: 450 / 595\r\n",
      "DEBUG:root:mouse_point[_X], mouse_point[_Y]: 1435, 427\r\n",
      "INFO:root:Current Frame: 480 / 595\r\n",
      "DEBUG:root:mouse_point[_X], mouse_point[_Y]: 1609, 110\r\n",
      "INFO:root:Current Frame: 510 / 595\r\n",
      "DEBUG:root:mouse_point[_X], mouse_point[_Y]: 1469, 552\r\n",
      "INFO:root:Current Frame: 540 / 595\r\n",
      "DEBUG:root:mouse_point[_X], mouse_point[_Y]: 1763, 483\r\n",
      "INFO:root:Current Frame: 570 / 595\r\n",
      "DEBUG:root:mouse_point[_X], mouse_point[_Y]: 1899, 189\r\n",
      "INFO:root:Current Frame: 595 / 595\r\n",
      "INFO:root:Input stream ended...\r\n"
     ]
    }
   ],
   "source": [
    "!cat stderr.log"
   ]
  },
  {
   "cell_type": "markdown",
   "metadata": {},
   "source": [
    "#### View Output Video\n",
    "Run the cell below to view the output video. If inference was successfully run, you should see a video with bounding boxes drawn around face detected."
   ]
  },
  {
   "cell_type": "code",
   "execution_count": 11,
   "metadata": {},
   "outputs": [
    {
     "data": {
      "text/html": [
       "<h5>CPU</h5>\n",
       "        <video alt=\"\" controls autoplay muted height=\"480\"><source src=\"results/INT8/cpu/out.mp4\" type=\"video/mp4\" /></video>\n",
       "        "
      ],
      "text/plain": [
       "<IPython.core.display.HTML object>"
      ]
     },
     "execution_count": 11,
     "metadata": {},
     "output_type": "execute_result"
    }
   ],
   "source": [
    "import videoHtml\n",
    "\n",
    "videoHtml.videoHTML('CPU', ['results/INT8/cpu/out.mp4'])"
   ]
  },
  {
   "cell_type": "markdown",
   "metadata": {},
   "source": [
    "## Step 1.2: Submit to an Edge Compute Node with CPU and IGPU\n",
    "In the cell below, write a script to submit a job to an <a \n",
    "    href=\"https://software.intel.com/en-us/iot/hardware/iei-tank-dev-kit-core\">IEI \n",
    "    Tank* 870-Q170</a> edge node with an <a href=\"https://ark.intel.com/products/88186/Intel-Core-i5-6500TE-Processor-6M-Cache-up-to-3-30-GHz-\">Intel® Core i5-6500TE</a>. The inference workload should run on the **Intel® HD Graphics 530** integrated GPU."
   ]
  },
  {
   "cell_type": "code",
   "execution_count": 12,
   "metadata": {},
   "outputs": [
    {
     "name": "stdout",
     "output_type": "stream",
     "text": [
      "PW89d3iS1rnxnEqd4ZLicK62NhxpUIMs\n"
     ]
    }
   ],
   "source": [
    "#Submit job to the queue\n",
    "gpu_job_id = !qsub queue_job.sh -d . -l nodes=1:tank-870:i5-6500te:intel-hd-530 -F \"HETERO:GPU,CPU /output/results/INT8/gpu INT8\"\n",
    "print(gpu_job_id[0])"
   ]
  },
  {
   "cell_type": "markdown",
   "metadata": {},
   "source": [
    "### Check Job Status\n",
    "\n",
    "To check on the job that was submitted, use `liveQStat` to check the status of the job.\n",
    "\n",
    "Column `S` shows the state of your running jobs.\n",
    "\n",
    "For example:\n",
    "- If `JOB ID`is in Q state, it is in the queue waiting for available resources.\n",
    "- If `JOB ID` is in R state, it is running."
   ]
  },
  {
   "cell_type": "code",
   "execution_count": null,
   "metadata": {},
   "outputs": [],
   "source": [
    "import liveQStat\n",
    "liveQStat.liveQStat()"
   ]
  },
  {
   "cell_type": "markdown",
   "metadata": {},
   "source": [
    "#### Get Results\n",
    "\n",
    "Run the next cell to retrieve your job's results."
   ]
  },
  {
   "cell_type": "code",
   "execution_count": 13,
   "metadata": {},
   "outputs": [
    {
     "name": "stdout",
     "output_type": "stream",
     "text": [
      "getResults() is blocking until results of the job (id:PW89d3iS1rnxnEqd4ZLicK62NhxpUIMs) are ready.\n",
      "Please wait...................................................Success!\n",
      "output.tgz was downloaded in the same folder as this notebook.\n"
     ]
    }
   ],
   "source": [
    "import get_results\n",
    "get_results.getResults(gpu_job_id[0], filename='output.tgz', blocking=True)"
   ]
  },
  {
   "cell_type": "markdown",
   "metadata": {},
   "source": [
    "#### Unpack your output files and view stdout.log"
   ]
  },
  {
   "cell_type": "code",
   "execution_count": 14,
   "metadata": {},
   "outputs": [],
   "source": [
    "!tar zxf output.tgz"
   ]
  },
  {
   "cell_type": "code",
   "execution_count": 15,
   "metadata": {},
   "outputs": [
    {
     "name": "stdout",
     "output_type": "stream",
     "text": [
      "Archive:  benchmark.zip\r\n",
      "491ce158c304beea0d40a6306599592d4db96970\r\n",
      "   creating: computer-pointer-controller-benchmark/\r\n",
      "  inflating: computer-pointer-controller-benchmark/.gitignore  \r\n",
      "  inflating: computer-pointer-controller-benchmark/README.md  \r\n",
      "   creating: computer-pointer-controller-benchmark/bin/\r\n",
      " extracting: computer-pointer-controller-benchmark/bin/.gitkeep  \r\n",
      "  inflating: computer-pointer-controller-benchmark/bin/demo.mp4  \r\n",
      "   creating: computer-pointer-controller-benchmark/intel/\r\n",
      "   creating: computer-pointer-controller-benchmark/intel/face-detection-adas-binary-0001/\r\n",
      "   creating: computer-pointer-controller-benchmark/intel/face-detection-adas-binary-0001/INT1/\r\n",
      "  inflating: computer-pointer-controller-benchmark/intel/face-detection-adas-binary-0001/INT1/face-detection-adas-binary-0001.bin  \r\n",
      "  inflating: computer-pointer-controller-benchmark/intel/face-detection-adas-binary-0001/INT1/face-detection-adas-binary-0001.xml  \r\n",
      "   creating: computer-pointer-controller-benchmark/intel/gaze-estimation-adas-0002/\r\n",
      "   creating: computer-pointer-controller-benchmark/intel/gaze-estimation-adas-0002/FP16/\r\n",
      "  inflating: computer-pointer-controller-benchmark/intel/gaze-estimation-adas-0002/FP16/gaze-estimation-adas-0002.bin  \r\n",
      "  inflating: computer-pointer-controller-benchmark/intel/gaze-estimation-adas-0002/FP16/gaze-estimation-adas-0002.xml  \r\n",
      "   creating: computer-pointer-controller-benchmark/intel/gaze-estimation-adas-0002/FP32/\r\n",
      "  inflating: computer-pointer-controller-benchmark/intel/gaze-estimation-adas-0002/FP32/gaze-estimation-adas-0002.bin  \r\n",
      "  inflating: computer-pointer-controller-benchmark/intel/gaze-estimation-adas-0002/FP32/gaze-estimation-adas-0002.xml  \r\n",
      "   creating: computer-pointer-controller-benchmark/intel/gaze-estimation-adas-0002/INT8/\r\n",
      "  inflating: computer-pointer-controller-benchmark/intel/gaze-estimation-adas-0002/INT8/gaze-estimation-adas-0002.bin  \r\n",
      "  inflating: computer-pointer-controller-benchmark/intel/gaze-estimation-adas-0002/INT8/gaze-estimation-adas-0002.xml  \r\n",
      "   creating: computer-pointer-controller-benchmark/intel/head-pose-estimation-adas-0001/\r\n",
      "   creating: computer-pointer-controller-benchmark/intel/head-pose-estimation-adas-0001/FP16/\r\n",
      "  inflating: computer-pointer-controller-benchmark/intel/head-pose-estimation-adas-0001/FP16/head-pose-estimation-adas-0001.bin  \r\n",
      "  inflating: computer-pointer-controller-benchmark/intel/head-pose-estimation-adas-0001/FP16/head-pose-estimation-adas-0001.xml  \r\n",
      "   creating: computer-pointer-controller-benchmark/intel/head-pose-estimation-adas-0001/FP32/\r\n",
      "  inflating: computer-pointer-controller-benchmark/intel/head-pose-estimation-adas-0001/FP32/head-pose-estimation-adas-0001.bin  \r\n",
      "  inflating: computer-pointer-controller-benchmark/intel/head-pose-estimation-adas-0001/FP32/head-pose-estimation-adas-0001.xml  \r\n",
      "   creating: computer-pointer-controller-benchmark/intel/landmarks-regression-retail-0009/\r\n",
      "   creating: computer-pointer-controller-benchmark/intel/landmarks-regression-retail-0009/FP16/\r\n",
      "  inflating: computer-pointer-controller-benchmark/intel/landmarks-regression-retail-0009/FP16/landmarks-regression-retail-0009.bin  \r\n",
      "  inflating: computer-pointer-controller-benchmark/intel/landmarks-regression-retail-0009/FP16/landmarks-regression-retail-0009.xml  \r\n",
      "   creating: computer-pointer-controller-benchmark/intel/landmarks-regression-retail-0009/FP32/\r\n",
      "  inflating: computer-pointer-controller-benchmark/intel/landmarks-regression-retail-0009/FP32/landmarks-regression-retail-0009.bin  \r\n",
      "  inflating: computer-pointer-controller-benchmark/intel/landmarks-regression-retail-0009/FP32/landmarks-regression-retail-0009.xml  \r\n",
      "  inflating: computer-pointer-controller-benchmark/requirements.txt  \r\n",
      "   creating: computer-pointer-controller-benchmark/src/\r\n",
      "  inflating: computer-pointer-controller-benchmark/src/face_detection.py  \r\n",
      "  inflating: computer-pointer-controller-benchmark/src/facial_landmarks_detection.py  \r\n",
      "  inflating: computer-pointer-controller-benchmark/src/gaze_estimation.py  \r\n",
      "  inflating: computer-pointer-controller-benchmark/src/head_pose_estimation.py  \r\n",
      "  inflating: computer-pointer-controller-benchmark/src/input_feeder.py  \r\n",
      "  inflating: computer-pointer-controller-benchmark/src/main.py  \r\n",
      "  inflating: computer-pointer-controller-benchmark/src/model.py  \r\n",
      "  inflating: computer-pointer-controller-benchmark/src/mouse_controller.py  \r\n",
      "conv4_3_0_norm_mbox_loc_perm is GPU\r\n",
      "conv4_3_norm_mbox_loc_perm is GPU\r\n",
      "fc7_mbox_loc_perm is GPU\r\n",
      "conv6_2_mbox_loc_perm is GPU\r\n",
      "conv7_2_mbox_loc_perm is GPU\r\n",
      "conv8_2_mbox_loc_perm is GPU\r\n",
      "conv9_2_mbox_loc_perm is GPU\r\n",
      "mbox_conf_reshape is GPU\r\n",
      "conv9_2_mbox_conf_perm is GPU\r\n",
      "conv8_2_mbox_conf_perm is GPU\r\n",
      "conv7_2_mbox_conf_perm is GPU\r\n",
      "conv6_2_mbox_conf_perm is GPU\r\n",
      "fc7_mbox_conf_perm is GPU\r\n",
      "conv4_3_0_norm_mbox_conf_perm is GPU\r\n",
      "conv4_3_norm_mbox_conf_perm is GPU\r\n",
      "712_const is GPU\r\n",
      "714_const is GPU\r\n",
      "720_const is GPU\r\n",
      "722_const is GPU\r\n",
      "728_const is GPU\r\n",
      "730_const is GPU\r\n",
      "736_const is GPU\r\n",
      "738_const is GPU\r\n",
      "744_const is GPU\r\n",
      "746_const is GPU\r\n",
      "752_const is GPU\r\n",
      "754_const is GPU\r\n",
      "760_const is GPU\r\n",
      "762_const is GPU\r\n",
      "768_const is GPU\r\n",
      "770_const is GPU\r\n",
      "776_const is GPU\r\n",
      "778_const is GPU\r\n",
      "784_const is GPU\r\n",
      "786_const is GPU\r\n",
      "792_const is GPU\r\n",
      "794_const is GPU\r\n",
      "Copy_L0008_ActivationBin-back_bone_seq.conv2_2_sep_relubin_bin_conv_BIN01/Input_1/Output_0/Data_1184_const is GPU\r\n",
      "Copy_L0008_ActivationBin-back_bone_seq.conv2_2_sep_relubin_bin_conv_BIN01/Input_1/Output_0/Data__const is GPU\r\n",
      "Copy_L0013_ActivationBin-back_bone_seq.conv3_1_sep_relubin_bin_conv_BIN01/Input_1/Output_0/Data_1182_const is GPU\r\n",
      "Copy_L0013_ActivationBin-back_bone_seq.conv3_1_sep_relubin_bin_conv_BIN01/Input_1/Output_0/Data__const is GPU\r\n",
      "Copy_L0018_ActivationBin-back_bone_seq.conv3_2_sep_relubin_bin_conv_BIN01/Input_1/Output_0/Data_1192_const is GPU\r\n",
      "Copy_L0018_ActivationBin-back_bone_seq.conv3_2_sep_relubin_bin_conv_BIN01/Input_1/Output_0/Data__const is GPU\r\n",
      "Copy_L0023_ActivationBin-back_bone_seq.conv4_1_sep_relubin_bin_conv_BIN01/Input_1/Output_0/Data_1174_const is GPU\r\n",
      "Copy_L0023_ActivationBin-back_bone_seq.conv4_1_sep_relubin_bin_conv_BIN01/Input_1/Output_0/Data__const is GPU\r\n",
      "Copy_L0028_ActivationBin-back_bone_seq.conv4_2_sep_relubin_bin_conv_BIN01/Input_1/Output_0/Data_1178_const is GPU\r\n",
      "Copy_L0028_ActivationBin-back_bone_seq.conv4_2_sep_relubin_bin_conv_BIN01/Input_1/Output_0/Data__const is GPU\r\n",
      "Copy_L0033_ActivationBin-back_bone_seq.conv5_1_sep_relubin_bin_conv_BIN01/Input_1/Output_0/Data_1172_const is GPU\r\n",
      "Copy_L0033_ActivationBin-back_bone_seq.conv5_1_sep_relubin_bin_conv_BIN01/Input_1/Output_0/Data__const is GPU\r\n",
      "Copy_L0038_ActivationBin-back_bone_seq.conv5_2_sep_relubin_bin_conv_BIN01/Input_1/Output_0/Data_1180_const is GPU\r\n",
      "Copy_L0038_ActivationBin-back_bone_seq.conv5_2_sep_relubin_bin_conv_BIN01/Input_1/Output_0/Data__const is GPU\r\n",
      "Copy_L0043_ActivationBin-back_bone_seq.conv5_3_sep_relubin_bin_conv_BIN01/Input_1/Output_0/Data_1176_const is GPU\r\n",
      "Copy_L0043_ActivationBin-back_bone_seq.conv5_3_sep_relubin_bin_conv_BIN01/Input_1/Output_0/Data__const is GPU\r\n",
      "Copy_L0048_ActivationBin-back_bone_seq.conv5_4_sep_relubin_bin_conv_BIN01/Input_1/Output_0/Data_1186_const is GPU\r\n",
      "Copy_L0048_ActivationBin-back_bone_seq.conv5_4_sep_relubin_bin_conv_BIN01/Input_1/Output_0/Data__const is GPU\r\n",
      "Copy_L0053_ActivationBin-back_bone_seq.conv5_5_sep_relubin_bin_conv_BIN01/Input_1/Output_0/Data_1188_const is GPU\r\n",
      "Copy_L0053_ActivationBin-back_bone_seq.conv5_5_sep_relubin_bin_conv_BIN01/Input_1/Output_0/Data__const is GPU\r\n",
      "Copy_L0060_ActivationBin-back_bone_seq.conv5_6_sep_relubin_bin_conv_BIN01/Input_1/Output_0/Data_1190_const is GPU\r\n",
      "Copy_L0060_ActivationBin-back_bone_seq.conv5_6_sep_relubin_bin_conv_BIN01/Input_1/Output_0/Data__const is GPU\r\n",
      "mbox_conf_reshape/DimData_const is GPU\r\n",
      "conv4_3_0_norm_mbox_loc_perm is GPU\r\n",
      "conv4_3_norm_mbox_loc_perm is GPU\r\n",
      "fc7_mbox_loc_perm is GPU\r\n",
      "conv6_2_mbox_loc_perm is GPU\r\n",
      "conv7_2_mbox_loc_perm is GPU\r\n",
      "conv8_2_mbox_loc_perm is GPU\r\n",
      "conv9_2_mbox_loc_perm is GPU\r\n",
      "mbox_conf_reshape is GPU\r\n",
      "conv9_2_mbox_conf_perm is GPU\r\n",
      "conv8_2_mbox_conf_perm is GPU\r\n",
      "conv7_2_mbox_conf_perm is GPU\r\n",
      "conv6_2_mbox_conf_perm is GPU\r\n",
      "fc7_mbox_conf_perm is GPU\r\n",
      "conv4_3_0_norm_mbox_conf_perm is GPU\r\n",
      "conv4_3_norm_mbox_conf_perm is GPU\r\n",
      "712_const is GPU\r\n",
      "714_const is GPU\r\n",
      "720_const is GPU\r\n",
      "722_const is GPU\r\n",
      "728_const is GPU\r\n",
      "730_const is GPU\r\n",
      "736_const is GPU\r\n",
      "738_const is GPU\r\n",
      "744_const is GPU\r\n",
      "746_const is GPU\r\n",
      "752_const is GPU\r\n",
      "754_const is GPU\r\n",
      "760_const is GPU\r\n",
      "762_const is GPU\r\n",
      "768_const is GPU\r\n",
      "770_const is GPU\r\n",
      "776_const is GPU\r\n",
      "778_const is GPU\r\n",
      "784_const is GPU\r\n",
      "786_const is GPU\r\n",
      "792_const is GPU\r\n",
      "794_const is GPU\r\n",
      "Copy_L0008_ActivationBin-back_bone_seq.conv2_2_sep_relubin_bin_conv_BIN01/Input_1/Output_0/Data_1184_const is GPU\r\n",
      "Copy_L0008_ActivationBin-back_bone_seq.conv2_2_sep_relubin_bin_conv_BIN01/Input_1/Output_0/Data__const is GPU\r\n",
      "Copy_L0013_ActivationBin-back_bone_seq.conv3_1_sep_relubin_bin_conv_BIN01/Input_1/Output_0/Data_1182_const is GPU\r\n",
      "Copy_L0013_ActivationBin-back_bone_seq.conv3_1_sep_relubin_bin_conv_BIN01/Input_1/Output_0/Data__const is GPU\r\n",
      "Copy_L0018_ActivationBin-back_bone_seq.conv3_2_sep_relubin_bin_conv_BIN01/Input_1/Output_0/Data_1192_const is GPU\r\n",
      "Copy_L0018_ActivationBin-back_bone_seq.conv3_2_sep_relubin_bin_conv_BIN01/Input_1/Output_0/Data__const is GPU\r\n",
      "Copy_L0023_ActivationBin-back_bone_seq.conv4_1_sep_relubin_bin_conv_BIN01/Input_1/Output_0/Data_1174_const is GPU\r\n",
      "Copy_L0023_ActivationBin-back_bone_seq.conv4_1_sep_relubin_bin_conv_BIN01/Input_1/Output_0/Data__const is GPU\r\n",
      "Copy_L0028_ActivationBin-back_bone_seq.conv4_2_sep_relubin_bin_conv_BIN01/Input_1/Output_0/Data_1178_const is GPU\r\n",
      "Copy_L0028_ActivationBin-back_bone_seq.conv4_2_sep_relubin_bin_conv_BIN01/Input_1/Output_0/Data__const is GPU\r\n",
      "Copy_L0033_ActivationBin-back_bone_seq.conv5_1_sep_relubin_bin_conv_BIN01/Input_1/Output_0/Data_1172_const is GPU\r\n",
      "Copy_L0033_ActivationBin-back_bone_seq.conv5_1_sep_relubin_bin_conv_BIN01/Input_1/Output_0/Data__const is GPU\r\n",
      "Copy_L0038_ActivationBin-back_bone_seq.conv5_2_sep_relubin_bin_conv_BIN01/Input_1/Output_0/Data_1180_const is GPU\r\n",
      "Copy_L0038_ActivationBin-back_bone_seq.conv5_2_sep_relubin_bin_conv_BIN01/Input_1/Output_0/Data__const is GPU\r\n",
      "Copy_L0043_ActivationBin-back_bone_seq.conv5_3_sep_relubin_bin_conv_BIN01/Input_1/Output_0/Data_1176_const is GPU\r\n",
      "Copy_L0043_ActivationBin-back_bone_seq.conv5_3_sep_relubin_bin_conv_BIN01/Input_1/Output_0/Data__const is GPU\r\n",
      "Copy_L0048_ActivationBin-back_bone_seq.conv5_4_sep_relubin_bin_conv_BIN01/Input_1/Output_0/Data_1186_const is GPU\r\n",
      "Copy_L0048_ActivationBin-back_bone_seq.conv5_4_sep_relubin_bin_conv_BIN01/Input_1/Output_0/Data__const is GPU\r\n",
      "Copy_L0053_ActivationBin-back_bone_seq.conv5_5_sep_relubin_bin_conv_BIN01/Input_1/Output_0/Data_1188_const is GPU\r\n",
      "Copy_L0053_ActivationBin-back_bone_seq.conv5_5_sep_relubin_bin_conv_BIN01/Input_1/Output_0/Data__const is GPU\r\n",
      "Copy_L0060_ActivationBin-back_bone_seq.conv5_6_sep_relubin_bin_conv_BIN01/Input_1/Output_0/Data_1190_const is GPU\r\n",
      "Copy_L0060_ActivationBin-back_bone_seq.conv5_6_sep_relubin_bin_conv_BIN01/Input_1/Output_0/Data__const is GPU\r\n",
      "mbox_conf_reshape/DimData_const is GPU\r\n",
      "130 is GPU\r\n",
      "129/Output_0/Data__const is GPU\r\n",
      "138 is GPU\r\n",
      "137/Output_0/Data__const is GPU\r\n",
      "140/Dims/Output_0/Data__const is GPU\r\n",
      "141/Dims/Output_0/Data__const is GPU\r\n",
      "150/Dims/Output_0/Data__const is GPU\r\n",
      "gaze_vector/Dims/Output_0/Data__const is GPU\r\n",
      "130 is GPU\r\n",
      "129/Output_0/Data__const is GPU\r\n",
      "138 is GPU\r\n",
      "137/Output_0/Data__const is GPU\r\n",
      "140/Dims/Output_0/Data__const is GPU\r\n",
      "141/Dims/Output_0/Data__const is GPU\r\n",
      "150/Dims/Output_0/Data__const is GPU\r\n",
      "gaze_vector/Dims/Output_0/Data__const is GPU\r\n",
      "results/\r\n",
      "results/INT8/\r\n",
      "results/INT8/gpu/\r\n",
      "results/INT8/gpu/stats.txt\r\n",
      "results/INT8/gpu/out.mp4\r\n",
      "stderr.log\r\n"
     ]
    }
   ],
   "source": [
    "!cat stdout.log"
   ]
  },
  {
   "cell_type": "markdown",
   "metadata": {},
   "source": [
    "#### View stderr.log\n",
    "This can be used for debugging."
   ]
  },
  {
   "cell_type": "code",
   "execution_count": 16,
   "metadata": {},
   "outputs": [
    {
     "name": "stdout",
     "output_type": "stream",
     "text": [
      "  % Total    % Received % Xferd  Average Speed   Time    Time     Time  Current\r\n",
      "                                 Dload  Upload   Total   Spent    Left  Speed\r\n",
      "100   149  100   149    0     0    575      0 --:--:-- --:--:-- --:--:--   575\r\n",
      "100 31.4M  100 31.4M    0     0  2909k      0  0:00:11  0:00:11 --:--:--  772k\r\n",
      "INFO:root:The face-detection-adas-binary-0001 always use INT1 precision\r\n",
      "/submission/computer-pointer-controller-benchmark/src/model.py:30: DeprecationWarning: Reading network using constructor is deprecated. Please, use IECore.read_network() method instead\r\n",
      "  self.network = IENetwork(model=model_xml, weights=model_bin)\r\n",
      "ERROR:root:Cannot load library '/opt/intel/openvino/deployment_tools/inference_engine/lib/intel64/libcpu_extension_sse4.so': /opt/intel/openvino/deployment_tools/inference_engine/lib/intel64/libcpu_extension_sse4.so: cannot open shared object file: No such file or directory\r\n",
      "DEBUG:root:IR successfully loaded ../intel/face-detection-adas-binary-0001/INT1/face-detection-adas-binary-0001.xml into Inference Engine.\r\n",
      "/submission/computer-pointer-controller-benchmark/src/model.py:30: DeprecationWarning: Reading network using constructor is deprecated. Please, use IECore.read_network() method instead\r\n",
      "  self.network = IENetwork(model=model_xml, weights=model_bin)\r\n",
      "ERROR:root:Cannot load library '/opt/intel/openvino/deployment_tools/inference_engine/lib/intel64/libcpu_extension_sse4.so': /opt/intel/openvino/deployment_tools/inference_engine/lib/intel64/libcpu_extension_sse4.so: cannot open shared object file: No such file or directory\r\n",
      "DEBUG:root:IR successfully loaded ../intel/landmarks-regression-retail-0009/FP16/landmarks-regression-retail-0009.xml into Inference Engine.\r\n",
      "/submission/computer-pointer-controller-benchmark/src/model.py:30: DeprecationWarning: Reading network using constructor is deprecated. Please, use IECore.read_network() method instead\r\n",
      "  self.network = IENetwork(model=model_xml, weights=model_bin)\r\n",
      "ERROR:root:Cannot load library '/opt/intel/openvino/deployment_tools/inference_engine/lib/intel64/libcpu_extension_sse4.so': /opt/intel/openvino/deployment_tools/inference_engine/lib/intel64/libcpu_extension_sse4.so: cannot open shared object file: No such file or directory\r\n",
      "DEBUG:root:IR successfully loaded ../intel/head-pose-estimation-adas-0001/FP16/head-pose-estimation-adas-0001.xml into Inference Engine.\r\n",
      "/submission/computer-pointer-controller-benchmark/src/model.py:30: DeprecationWarning: Reading network using constructor is deprecated. Please, use IECore.read_network() method instead\r\n",
      "  self.network = IENetwork(model=model_xml, weights=model_bin)\r\n",
      "ERROR:root:Cannot load library '/opt/intel/openvino/deployment_tools/inference_engine/lib/intel64/libcpu_extension_sse4.so': /opt/intel/openvino/deployment_tools/inference_engine/lib/intel64/libcpu_extension_sse4.so: cannot open shared object file: No such file or directory\r\n",
      "DEBUG:root:IR successfully loaded ../intel/gaze-estimation-adas-0002/INT8/gaze-estimation-adas-0002.xml into Inference Engine.\r\n",
      "INFO:root:Current Frame: 30 / 595\r\n",
      "DEBUG:root:mouse_point[_X], mouse_point[_Y]: 1875, 129\r\n",
      "INFO:root:Current Frame: 60 / 595\r\n",
      "DEBUG:root:mouse_point[_X], mouse_point[_Y]: 913, 143\r\n",
      "INFO:root:Current Frame: 90 / 595\r\n",
      "DEBUG:root:mouse_point[_X], mouse_point[_Y]: 345, 687\r\n",
      "INFO:root:Current Frame: 120 / 595\r\n",
      "DEBUG:root:mouse_point[_X], mouse_point[_Y]: 544, 683\r\n",
      "INFO:root:Current Frame: 150 / 595\r\n",
      "DEBUG:root:mouse_point[_X], mouse_point[_Y]: 1588, 620\r\n",
      "INFO:root:Current Frame: 180 / 595\r\n",
      "DEBUG:root:mouse_point[_X], mouse_point[_Y]: 1787, 149\r\n",
      "INFO:root:Current Frame: 210 / 595\r\n",
      "DEBUG:root:mouse_point[_X], mouse_point[_Y]: 1675, 190\r\n",
      "INFO:root:Current Frame: 240 / 595\r\n",
      "DEBUG:root:mouse_point[_X], mouse_point[_Y]: 1589, 221\r\n",
      "INFO:root:Current Frame: 270 / 595\r\n",
      "DEBUG:root:mouse_point[_X], mouse_point[_Y]: 1420, 528\r\n",
      "INFO:root:Current Frame: 300 / 595\r\n",
      "DEBUG:root:mouse_point[_X], mouse_point[_Y]: 1900, 40\r\n",
      "INFO:root:Current Frame: 330 / 595\r\n",
      "DEBUG:root:mouse_point[_X], mouse_point[_Y]: 647, 20\r\n",
      "INFO:root:Current Frame: 360 / 595\r\n",
      "DEBUG:root:mouse_point[_X], mouse_point[_Y]: 379, 52\r\n",
      "INFO:root:Current Frame: 390 / 595\r\n",
      "DEBUG:root:mouse_point[_X], mouse_point[_Y]: 1559, 196\r\n",
      "INFO:root:Current Frame: 420 / 595\r\n",
      "DEBUG:root:mouse_point[_X], mouse_point[_Y]: 1171, 722\r\n",
      "INFO:root:Current Frame: 450 / 595\r\n",
      "DEBUG:root:mouse_point[_X], mouse_point[_Y]: 1490, 552\r\n",
      "INFO:root:Current Frame: 480 / 595\r\n",
      "DEBUG:root:mouse_point[_X], mouse_point[_Y]: 1600, 143\r\n",
      "INFO:root:Current Frame: 510 / 595\r\n",
      "DEBUG:root:mouse_point[_X], mouse_point[_Y]: 1456, 557\r\n",
      "INFO:root:Current Frame: 540 / 595\r\n",
      "DEBUG:root:mouse_point[_X], mouse_point[_Y]: 1740, 487\r\n",
      "INFO:root:Current Frame: 570 / 595\r\n",
      "DEBUG:root:mouse_point[_X], mouse_point[_Y]: 1899, 222\r\n",
      "INFO:root:Current Frame: 595 / 595\r\n",
      "INFO:root:Input stream ended...\r\n"
     ]
    }
   ],
   "source": [
    "!cat stderr.log"
   ]
  },
  {
   "cell_type": "markdown",
   "metadata": {},
   "source": [
    "#### View Output Video\n",
    "Run the cell below to view the output video. If inference was successfully run, you should see a video with bounding boxes drawn around each person detected."
   ]
  },
  {
   "cell_type": "code",
   "execution_count": 17,
   "metadata": {},
   "outputs": [
    {
     "data": {
      "text/html": [
       "<h5>GPU</h5>\n",
       "        <video alt=\"\" controls autoplay muted height=\"480\"><source src=\"results/INT8/gpu/out.mp4\" type=\"video/mp4\" /></video>\n",
       "        "
      ],
      "text/plain": [
       "<IPython.core.display.HTML object>"
      ]
     },
     "execution_count": 17,
     "metadata": {},
     "output_type": "execute_result"
    }
   ],
   "source": [
    "import videoHtml\n",
    "\n",
    "videoHtml.videoHTML('GPU', ['results/INT8/gpu/out.mp4'])"
   ]
  },
  {
   "cell_type": "markdown",
   "metadata": {},
   "source": [
    "## Step 1.3: Submit to an Edge Compute Node with a Neural Compute Stick 2\n",
    "\n",
    "Note VPU, Neural Compute Stick 2 only supports FP16 precision. So we will skip this."
   ]
  },
  {
   "cell_type": "markdown",
   "metadata": {},
   "source": [
    "## Step 1.4: Submit to an Edge Compute Node with IEI Mustang-F100-A10\n",
    "\n",
    "Also FPGA doesn't suuport INT8 precision. So we will skip this as well."
   ]
  },
  {
   "cell_type": "markdown",
   "metadata": {},
   "source": [
    "## FP16\n",
    "\n",
    "same procedures for precision FP16"
   ]
  },
  {
   "cell_type": "markdown",
   "metadata": {},
   "source": [
    "## Step 1.5: Intel CPU"
   ]
  },
  {
   "cell_type": "code",
   "execution_count": 18,
   "metadata": {},
   "outputs": [
    {
     "name": "stdout",
     "output_type": "stream",
     "text": [
      "RncjFIGlyDlJEf2TWC6oi5zHXW08Mrd7\n"
     ]
    }
   ],
   "source": [
    "#Submit job to the queue\n",
    "cpu_job_id = !qsub queue_job.sh -d . -l nodes=1:tank-870:i5-6500te -F \"CPU /output/results/FP16/cpu FP16\"\n",
    "\n",
    "print(cpu_job_id[0])"
   ]
  },
  {
   "cell_type": "markdown",
   "metadata": {},
   "source": [
    "#### Get Results\n",
    "\n",
    "Run the next cell to retrieve your job's results."
   ]
  },
  {
   "cell_type": "code",
   "execution_count": 19,
   "metadata": {},
   "outputs": [
    {
     "name": "stdout",
     "output_type": "stream",
     "text": [
      "getResults() is blocking until results of the job (id:RncjFIGlyDlJEf2TWC6oi5zHXW08Mrd7) are ready.\n",
      "Please wait........Success!\n",
      "output.tgz was downloaded in the same folder as this notebook.\n"
     ]
    }
   ],
   "source": [
    "import get_results\n",
    "get_results.getResults(cpu_job_id[0], filename='output.tgz', blocking=True)"
   ]
  },
  {
   "cell_type": "markdown",
   "metadata": {},
   "source": [
    "#### Unpack your output files and view stdout.log"
   ]
  },
  {
   "cell_type": "code",
   "execution_count": 20,
   "metadata": {},
   "outputs": [],
   "source": [
    "!tar zxf output.tgz"
   ]
  },
  {
   "cell_type": "code",
   "execution_count": 21,
   "metadata": {},
   "outputs": [
    {
     "name": "stdout",
     "output_type": "stream",
     "text": [
      "Archive:  benchmark.zip\r\n",
      "491ce158c304beea0d40a6306599592d4db96970\r\n",
      "   creating: computer-pointer-controller-benchmark/\r\n",
      "  inflating: computer-pointer-controller-benchmark/.gitignore  \r\n",
      "  inflating: computer-pointer-controller-benchmark/README.md  \r\n",
      "   creating: computer-pointer-controller-benchmark/bin/\r\n",
      " extracting: computer-pointer-controller-benchmark/bin/.gitkeep  \r\n",
      "  inflating: computer-pointer-controller-benchmark/bin/demo.mp4  \r\n",
      "   creating: computer-pointer-controller-benchmark/intel/\r\n",
      "   creating: computer-pointer-controller-benchmark/intel/face-detection-adas-binary-0001/\r\n",
      "   creating: computer-pointer-controller-benchmark/intel/face-detection-adas-binary-0001/INT1/\r\n",
      "  inflating: computer-pointer-controller-benchmark/intel/face-detection-adas-binary-0001/INT1/face-detection-adas-binary-0001.bin  \r\n",
      "  inflating: computer-pointer-controller-benchmark/intel/face-detection-adas-binary-0001/INT1/face-detection-adas-binary-0001.xml  \r\n",
      "   creating: computer-pointer-controller-benchmark/intel/gaze-estimation-adas-0002/\r\n",
      "   creating: computer-pointer-controller-benchmark/intel/gaze-estimation-adas-0002/FP16/\r\n",
      "  inflating: computer-pointer-controller-benchmark/intel/gaze-estimation-adas-0002/FP16/gaze-estimation-adas-0002.bin  \r\n",
      "  inflating: computer-pointer-controller-benchmark/intel/gaze-estimation-adas-0002/FP16/gaze-estimation-adas-0002.xml  \r\n",
      "   creating: computer-pointer-controller-benchmark/intel/gaze-estimation-adas-0002/FP32/\r\n",
      "  inflating: computer-pointer-controller-benchmark/intel/gaze-estimation-adas-0002/FP32/gaze-estimation-adas-0002.bin  \r\n",
      "  inflating: computer-pointer-controller-benchmark/intel/gaze-estimation-adas-0002/FP32/gaze-estimation-adas-0002.xml  \r\n",
      "   creating: computer-pointer-controller-benchmark/intel/gaze-estimation-adas-0002/INT8/\r\n",
      "  inflating: computer-pointer-controller-benchmark/intel/gaze-estimation-adas-0002/INT8/gaze-estimation-adas-0002.bin  \r\n",
      "  inflating: computer-pointer-controller-benchmark/intel/gaze-estimation-adas-0002/INT8/gaze-estimation-adas-0002.xml  \r\n",
      "   creating: computer-pointer-controller-benchmark/intel/head-pose-estimation-adas-0001/\r\n",
      "   creating: computer-pointer-controller-benchmark/intel/head-pose-estimation-adas-0001/FP16/\r\n",
      "  inflating: computer-pointer-controller-benchmark/intel/head-pose-estimation-adas-0001/FP16/head-pose-estimation-adas-0001.bin  \r\n",
      "  inflating: computer-pointer-controller-benchmark/intel/head-pose-estimation-adas-0001/FP16/head-pose-estimation-adas-0001.xml  \r\n",
      "   creating: computer-pointer-controller-benchmark/intel/head-pose-estimation-adas-0001/FP32/\r\n",
      "  inflating: computer-pointer-controller-benchmark/intel/head-pose-estimation-adas-0001/FP32/head-pose-estimation-adas-0001.bin  \r\n",
      "  inflating: computer-pointer-controller-benchmark/intel/head-pose-estimation-adas-0001/FP32/head-pose-estimation-adas-0001.xml  \r\n",
      "   creating: computer-pointer-controller-benchmark/intel/landmarks-regression-retail-0009/\r\n",
      "   creating: computer-pointer-controller-benchmark/intel/landmarks-regression-retail-0009/FP16/\r\n",
      "  inflating: computer-pointer-controller-benchmark/intel/landmarks-regression-retail-0009/FP16/landmarks-regression-retail-0009.bin  \r\n",
      "  inflating: computer-pointer-controller-benchmark/intel/landmarks-regression-retail-0009/FP16/landmarks-regression-retail-0009.xml  \r\n",
      "   creating: computer-pointer-controller-benchmark/intel/landmarks-regression-retail-0009/FP32/\r\n",
      "  inflating: computer-pointer-controller-benchmark/intel/landmarks-regression-retail-0009/FP32/landmarks-regression-retail-0009.bin  \r\n",
      "  inflating: computer-pointer-controller-benchmark/intel/landmarks-regression-retail-0009/FP32/landmarks-regression-retail-0009.xml  \r\n",
      "  inflating: computer-pointer-controller-benchmark/requirements.txt  \r\n",
      "   creating: computer-pointer-controller-benchmark/src/\r\n",
      "  inflating: computer-pointer-controller-benchmark/src/face_detection.py  \r\n",
      "  inflating: computer-pointer-controller-benchmark/src/facial_landmarks_detection.py  \r\n",
      "  inflating: computer-pointer-controller-benchmark/src/gaze_estimation.py  \r\n",
      "  inflating: computer-pointer-controller-benchmark/src/head_pose_estimation.py  \r\n",
      "  inflating: computer-pointer-controller-benchmark/src/input_feeder.py  \r\n",
      "  inflating: computer-pointer-controller-benchmark/src/main.py  \r\n",
      "  inflating: computer-pointer-controller-benchmark/src/model.py  \r\n",
      "  inflating: computer-pointer-controller-benchmark/src/mouse_controller.py  \r\n",
      "results/\r\n",
      "results/FP16/\r\n",
      "results/FP16/cpu/\r\n",
      "results/FP16/cpu/stats.txt\r\n",
      "results/FP16/cpu/out.mp4\r\n",
      "stderr.log\r\n"
     ]
    }
   ],
   "source": [
    "!cat stdout.log"
   ]
  },
  {
   "cell_type": "markdown",
   "metadata": {},
   "source": [
    "#### View stderr.log\n",
    "This can be used for debugging."
   ]
  },
  {
   "cell_type": "code",
   "execution_count": 22,
   "metadata": {},
   "outputs": [
    {
     "name": "stdout",
     "output_type": "stream",
     "text": [
      "  % Total    % Received % Xferd  Average Speed   Time    Time     Time  Current\r\n",
      "                                 Dload  Upload   Total   Spent    Left  Speed\r\n",
      "100   149  100   149    0     0   1079      0 --:--:-- --:--:-- --:--:--  1087\r\n",
      "100 31.4M  100 31.4M    0     0  1657k      0  0:00:19  0:00:19 --:--:-- 2024k\r\n",
      "INFO:root:The face-detection-adas-binary-0001 always use INT1 precision\r\n",
      "/submission/computer-pointer-controller-benchmark/src/model.py:30: DeprecationWarning: Reading network using constructor is deprecated. Please, use IECore.read_network() method instead\r\n",
      "  self.network = IENetwork(model=model_xml, weights=model_bin)\r\n",
      "ERROR:root:Cannot load library '/opt/intel/openvino/deployment_tools/inference_engine/lib/intel64/libcpu_extension_sse4.so': /opt/intel/openvino/deployment_tools/inference_engine/lib/intel64/libcpu_extension_sse4.so: cannot open shared object file: No such file or directory\r\n",
      "DEBUG:root:IR successfully loaded ../intel/face-detection-adas-binary-0001/INT1/face-detection-adas-binary-0001.xml into Inference Engine.\r\n",
      "/submission/computer-pointer-controller-benchmark/src/model.py:30: DeprecationWarning: Reading network using constructor is deprecated. Please, use IECore.read_network() method instead\r\n",
      "  self.network = IENetwork(model=model_xml, weights=model_bin)\r\n",
      "ERROR:root:Cannot load library '/opt/intel/openvino/deployment_tools/inference_engine/lib/intel64/libcpu_extension_sse4.so': /opt/intel/openvino/deployment_tools/inference_engine/lib/intel64/libcpu_extension_sse4.so: cannot open shared object file: No such file or directory\r\n",
      "DEBUG:root:IR successfully loaded ../intel/landmarks-regression-retail-0009/FP16/landmarks-regression-retail-0009.xml into Inference Engine.\r\n",
      "/submission/computer-pointer-controller-benchmark/src/model.py:30: DeprecationWarning: Reading network using constructor is deprecated. Please, use IECore.read_network() method instead\r\n",
      "  self.network = IENetwork(model=model_xml, weights=model_bin)\r\n",
      "ERROR:root:Cannot load library '/opt/intel/openvino/deployment_tools/inference_engine/lib/intel64/libcpu_extension_sse4.so': /opt/intel/openvino/deployment_tools/inference_engine/lib/intel64/libcpu_extension_sse4.so: cannot open shared object file: No such file or directory\r\n",
      "DEBUG:root:IR successfully loaded ../intel/head-pose-estimation-adas-0001/FP16/head-pose-estimation-adas-0001.xml into Inference Engine.\r\n",
      "/submission/computer-pointer-controller-benchmark/src/model.py:30: DeprecationWarning: Reading network using constructor is deprecated. Please, use IECore.read_network() method instead\r\n",
      "  self.network = IENetwork(model=model_xml, weights=model_bin)\r\n",
      "ERROR:root:Cannot load library '/opt/intel/openvino/deployment_tools/inference_engine/lib/intel64/libcpu_extension_sse4.so': /opt/intel/openvino/deployment_tools/inference_engine/lib/intel64/libcpu_extension_sse4.so: cannot open shared object file: No such file or directory\r\n",
      "DEBUG:root:IR successfully loaded ../intel/gaze-estimation-adas-0002/FP16/gaze-estimation-adas-0002.xml into Inference Engine.\r\n",
      "INFO:root:Current Frame: 30 / 595\r\n",
      "DEBUG:root:mouse_point[_X], mouse_point[_Y]: 1874, 129\r\n",
      "INFO:root:Current Frame: 60 / 595\r\n",
      "DEBUG:root:mouse_point[_X], mouse_point[_Y]: 913, 142\r\n",
      "INFO:root:Current Frame: 90 / 595\r\n",
      "DEBUG:root:mouse_point[_X], mouse_point[_Y]: 345, 687\r\n",
      "INFO:root:Current Frame: 120 / 595\r\n",
      "DEBUG:root:mouse_point[_X], mouse_point[_Y]: 563, 680\r\n",
      "INFO:root:Current Frame: 150 / 595\r\n",
      "DEBUG:root:mouse_point[_X], mouse_point[_Y]: 1586, 616\r\n",
      "INFO:root:Current Frame: 180 / 595\r\n",
      "DEBUG:root:mouse_point[_X], mouse_point[_Y]: 1788, 148\r\n",
      "INFO:root:Current Frame: 210 / 595\r\n",
      "DEBUG:root:mouse_point[_X], mouse_point[_Y]: 1675, 189\r\n",
      "INFO:root:Current Frame: 240 / 595\r\n",
      "DEBUG:root:mouse_point[_X], mouse_point[_Y]: 1571, 232\r\n",
      "INFO:root:Current Frame: 270 / 595\r\n",
      "DEBUG:root:mouse_point[_X], mouse_point[_Y]: 1420, 528\r\n",
      "INFO:root:Current Frame: 300 / 595\r\n",
      "DEBUG:root:mouse_point[_X], mouse_point[_Y]: 1900, 41\r\n",
      "INFO:root:Current Frame: 330 / 595\r\n",
      "DEBUG:root:mouse_point[_X], mouse_point[_Y]: 650, 19\r\n",
      "INFO:root:Current Frame: 360 / 595\r\n",
      "DEBUG:root:mouse_point[_X], mouse_point[_Y]: 378, 52\r\n",
      "INFO:root:Current Frame: 390 / 595\r\n",
      "DEBUG:root:mouse_point[_X], mouse_point[_Y]: 1559, 196\r\n",
      "INFO:root:Current Frame: 420 / 595\r\n",
      "DEBUG:root:mouse_point[_X], mouse_point[_Y]: 1172, 722\r\n",
      "INFO:root:Current Frame: 450 / 595\r\n",
      "DEBUG:root:mouse_point[_X], mouse_point[_Y]: 1503, 464\r\n",
      "INFO:root:Current Frame: 480 / 595\r\n",
      "DEBUG:root:mouse_point[_X], mouse_point[_Y]: 1602, 112\r\n",
      "INFO:root:Current Frame: 510 / 595\r\n",
      "DEBUG:root:mouse_point[_X], mouse_point[_Y]: 1458, 557\r\n",
      "INFO:root:Current Frame: 540 / 595\r\n",
      "DEBUG:root:mouse_point[_X], mouse_point[_Y]: 1740, 487\r\n",
      "INFO:root:Current Frame: 570 / 595\r\n",
      "DEBUG:root:mouse_point[_X], mouse_point[_Y]: 1899, 222\r\n",
      "INFO:root:Current Frame: 595 / 595\r\n",
      "INFO:root:Input stream ended...\r\n"
     ]
    }
   ],
   "source": [
    "!cat stderr.log"
   ]
  },
  {
   "cell_type": "markdown",
   "metadata": {},
   "source": [
    "## Step 1.6: CPU and IGPU"
   ]
  },
  {
   "cell_type": "code",
   "execution_count": 23,
   "metadata": {},
   "outputs": [
    {
     "name": "stdout",
     "output_type": "stream",
     "text": [
      "qDIYGeSK5w7NVrSrspb6oIykO3458zgO\n"
     ]
    }
   ],
   "source": [
    "#Submit job to the queue\n",
    "gpu_job_id = !qsub queue_job.sh -d . -l nodes=1:tank-870:i5-6500te:intel-hd-530 -F \"HETERO:GPU,CPU /output/results/FP16/gpu FP16\"\n",
    "\n",
    "print(gpu_job_id[0])"
   ]
  },
  {
   "cell_type": "markdown",
   "metadata": {},
   "source": [
    "#### Get Results\n",
    "\n",
    "Run the next cell to retrieve your job's results."
   ]
  },
  {
   "cell_type": "code",
   "execution_count": 24,
   "metadata": {},
   "outputs": [
    {
     "name": "stdout",
     "output_type": "stream",
     "text": [
      "getResults() is blocking until results of the job (id:qDIYGeSK5w7NVrSrspb6oIykO3458zgO) are ready.\n",
      "Please wait.......................................Success!\n",
      "output.tgz was downloaded in the same folder as this notebook.\n"
     ]
    }
   ],
   "source": [
    "import get_results\n",
    "get_results.getResults(gpu_job_id[0], filename='output.tgz', blocking=True)"
   ]
  },
  {
   "cell_type": "markdown",
   "metadata": {},
   "source": [
    "#### Unpack your output files and view stdout.log"
   ]
  },
  {
   "cell_type": "code",
   "execution_count": 25,
   "metadata": {},
   "outputs": [],
   "source": [
    "!tar zxf output.tgz"
   ]
  },
  {
   "cell_type": "code",
   "execution_count": 26,
   "metadata": {},
   "outputs": [
    {
     "name": "stdout",
     "output_type": "stream",
     "text": [
      "Archive:  benchmark.zip\r\n",
      "491ce158c304beea0d40a6306599592d4db96970\r\n",
      "   creating: computer-pointer-controller-benchmark/\r\n",
      "  inflating: computer-pointer-controller-benchmark/.gitignore  \r\n",
      "  inflating: computer-pointer-controller-benchmark/README.md  \r\n",
      "   creating: computer-pointer-controller-benchmark/bin/\r\n",
      " extracting: computer-pointer-controller-benchmark/bin/.gitkeep  \r\n",
      "  inflating: computer-pointer-controller-benchmark/bin/demo.mp4  \r\n",
      "   creating: computer-pointer-controller-benchmark/intel/\r\n",
      "   creating: computer-pointer-controller-benchmark/intel/face-detection-adas-binary-0001/\r\n",
      "   creating: computer-pointer-controller-benchmark/intel/face-detection-adas-binary-0001/INT1/\r\n",
      "  inflating: computer-pointer-controller-benchmark/intel/face-detection-adas-binary-0001/INT1/face-detection-adas-binary-0001.bin  \r\n",
      "  inflating: computer-pointer-controller-benchmark/intel/face-detection-adas-binary-0001/INT1/face-detection-adas-binary-0001.xml  \r\n",
      "   creating: computer-pointer-controller-benchmark/intel/gaze-estimation-adas-0002/\r\n",
      "   creating: computer-pointer-controller-benchmark/intel/gaze-estimation-adas-0002/FP16/\r\n",
      "  inflating: computer-pointer-controller-benchmark/intel/gaze-estimation-adas-0002/FP16/gaze-estimation-adas-0002.bin  \r\n",
      "  inflating: computer-pointer-controller-benchmark/intel/gaze-estimation-adas-0002/FP16/gaze-estimation-adas-0002.xml  \r\n",
      "   creating: computer-pointer-controller-benchmark/intel/gaze-estimation-adas-0002/FP32/\r\n",
      "  inflating: computer-pointer-controller-benchmark/intel/gaze-estimation-adas-0002/FP32/gaze-estimation-adas-0002.bin  \r\n",
      "  inflating: computer-pointer-controller-benchmark/intel/gaze-estimation-adas-0002/FP32/gaze-estimation-adas-0002.xml  \r\n",
      "   creating: computer-pointer-controller-benchmark/intel/gaze-estimation-adas-0002/INT8/\r\n",
      "  inflating: computer-pointer-controller-benchmark/intel/gaze-estimation-adas-0002/INT8/gaze-estimation-adas-0002.bin  \r\n",
      "  inflating: computer-pointer-controller-benchmark/intel/gaze-estimation-adas-0002/INT8/gaze-estimation-adas-0002.xml  \r\n",
      "   creating: computer-pointer-controller-benchmark/intel/head-pose-estimation-adas-0001/\r\n",
      "   creating: computer-pointer-controller-benchmark/intel/head-pose-estimation-adas-0001/FP16/\r\n",
      "  inflating: computer-pointer-controller-benchmark/intel/head-pose-estimation-adas-0001/FP16/head-pose-estimation-adas-0001.bin  \r\n",
      "  inflating: computer-pointer-controller-benchmark/intel/head-pose-estimation-adas-0001/FP16/head-pose-estimation-adas-0001.xml  \r\n",
      "   creating: computer-pointer-controller-benchmark/intel/head-pose-estimation-adas-0001/FP32/\r\n",
      "  inflating: computer-pointer-controller-benchmark/intel/head-pose-estimation-adas-0001/FP32/head-pose-estimation-adas-0001.bin  \r\n",
      "  inflating: computer-pointer-controller-benchmark/intel/head-pose-estimation-adas-0001/FP32/head-pose-estimation-adas-0001.xml  \r\n",
      "   creating: computer-pointer-controller-benchmark/intel/landmarks-regression-retail-0009/\r\n",
      "   creating: computer-pointer-controller-benchmark/intel/landmarks-regression-retail-0009/FP16/\r\n",
      "  inflating: computer-pointer-controller-benchmark/intel/landmarks-regression-retail-0009/FP16/landmarks-regression-retail-0009.bin  \r\n",
      "  inflating: computer-pointer-controller-benchmark/intel/landmarks-regression-retail-0009/FP16/landmarks-regression-retail-0009.xml  \r\n",
      "   creating: computer-pointer-controller-benchmark/intel/landmarks-regression-retail-0009/FP32/\r\n",
      "  inflating: computer-pointer-controller-benchmark/intel/landmarks-regression-retail-0009/FP32/landmarks-regression-retail-0009.bin  \r\n",
      "  inflating: computer-pointer-controller-benchmark/intel/landmarks-regression-retail-0009/FP32/landmarks-regression-retail-0009.xml  \r\n",
      "  inflating: computer-pointer-controller-benchmark/requirements.txt  \r\n",
      "   creating: computer-pointer-controller-benchmark/src/\r\n",
      "  inflating: computer-pointer-controller-benchmark/src/face_detection.py  \r\n",
      "  inflating: computer-pointer-controller-benchmark/src/facial_landmarks_detection.py  \r\n",
      "  inflating: computer-pointer-controller-benchmark/src/gaze_estimation.py  \r\n",
      "  inflating: computer-pointer-controller-benchmark/src/head_pose_estimation.py  \r\n",
      "  inflating: computer-pointer-controller-benchmark/src/input_feeder.py  \r\n",
      "  inflating: computer-pointer-controller-benchmark/src/main.py  \r\n",
      "  inflating: computer-pointer-controller-benchmark/src/model.py  \r\n",
      "  inflating: computer-pointer-controller-benchmark/src/mouse_controller.py  \r\n",
      "conv4_3_0_norm_mbox_loc_perm is GPU\r\n",
      "conv4_3_norm_mbox_loc_perm is GPU\r\n",
      "fc7_mbox_loc_perm is GPU\r\n",
      "conv6_2_mbox_loc_perm is GPU\r\n",
      "conv7_2_mbox_loc_perm is GPU\r\n",
      "conv8_2_mbox_loc_perm is GPU\r\n",
      "conv9_2_mbox_loc_perm is GPU\r\n",
      "mbox_conf_reshape is GPU\r\n",
      "conv9_2_mbox_conf_perm is GPU\r\n",
      "conv8_2_mbox_conf_perm is GPU\r\n",
      "conv7_2_mbox_conf_perm is GPU\r\n",
      "conv6_2_mbox_conf_perm is GPU\r\n",
      "fc7_mbox_conf_perm is GPU\r\n",
      "conv4_3_0_norm_mbox_conf_perm is GPU\r\n",
      "conv4_3_norm_mbox_conf_perm is GPU\r\n",
      "712_const is GPU\r\n",
      "714_const is GPU\r\n",
      "720_const is GPU\r\n",
      "722_const is GPU\r\n",
      "728_const is GPU\r\n",
      "730_const is GPU\r\n",
      "736_const is GPU\r\n",
      "738_const is GPU\r\n",
      "744_const is GPU\r\n",
      "746_const is GPU\r\n",
      "752_const is GPU\r\n",
      "754_const is GPU\r\n",
      "760_const is GPU\r\n",
      "762_const is GPU\r\n",
      "768_const is GPU\r\n",
      "770_const is GPU\r\n",
      "776_const is GPU\r\n",
      "778_const is GPU\r\n",
      "784_const is GPU\r\n",
      "786_const is GPU\r\n",
      "792_const is GPU\r\n",
      "794_const is GPU\r\n",
      "Copy_L0008_ActivationBin-back_bone_seq.conv2_2_sep_relubin_bin_conv_BIN01/Input_1/Output_0/Data_1184_const is GPU\r\n",
      "Copy_L0008_ActivationBin-back_bone_seq.conv2_2_sep_relubin_bin_conv_BIN01/Input_1/Output_0/Data__const is GPU\r\n",
      "Copy_L0013_ActivationBin-back_bone_seq.conv3_1_sep_relubin_bin_conv_BIN01/Input_1/Output_0/Data_1182_const is GPU\r\n",
      "Copy_L0013_ActivationBin-back_bone_seq.conv3_1_sep_relubin_bin_conv_BIN01/Input_1/Output_0/Data__const is GPU\r\n",
      "Copy_L0018_ActivationBin-back_bone_seq.conv3_2_sep_relubin_bin_conv_BIN01/Input_1/Output_0/Data_1192_const is GPU\r\n",
      "Copy_L0018_ActivationBin-back_bone_seq.conv3_2_sep_relubin_bin_conv_BIN01/Input_1/Output_0/Data__const is GPU\r\n",
      "Copy_L0023_ActivationBin-back_bone_seq.conv4_1_sep_relubin_bin_conv_BIN01/Input_1/Output_0/Data_1174_const is GPU\r\n",
      "Copy_L0023_ActivationBin-back_bone_seq.conv4_1_sep_relubin_bin_conv_BIN01/Input_1/Output_0/Data__const is GPU\r\n",
      "Copy_L0028_ActivationBin-back_bone_seq.conv4_2_sep_relubin_bin_conv_BIN01/Input_1/Output_0/Data_1178_const is GPU\r\n",
      "Copy_L0028_ActivationBin-back_bone_seq.conv4_2_sep_relubin_bin_conv_BIN01/Input_1/Output_0/Data__const is GPU\r\n",
      "Copy_L0033_ActivationBin-back_bone_seq.conv5_1_sep_relubin_bin_conv_BIN01/Input_1/Output_0/Data_1172_const is GPU\r\n",
      "Copy_L0033_ActivationBin-back_bone_seq.conv5_1_sep_relubin_bin_conv_BIN01/Input_1/Output_0/Data__const is GPU\r\n",
      "Copy_L0038_ActivationBin-back_bone_seq.conv5_2_sep_relubin_bin_conv_BIN01/Input_1/Output_0/Data_1180_const is GPU\r\n",
      "Copy_L0038_ActivationBin-back_bone_seq.conv5_2_sep_relubin_bin_conv_BIN01/Input_1/Output_0/Data__const is GPU\r\n",
      "Copy_L0043_ActivationBin-back_bone_seq.conv5_3_sep_relubin_bin_conv_BIN01/Input_1/Output_0/Data_1176_const is GPU\r\n",
      "Copy_L0043_ActivationBin-back_bone_seq.conv5_3_sep_relubin_bin_conv_BIN01/Input_1/Output_0/Data__const is GPU\r\n",
      "Copy_L0048_ActivationBin-back_bone_seq.conv5_4_sep_relubin_bin_conv_BIN01/Input_1/Output_0/Data_1186_const is GPU\r\n",
      "Copy_L0048_ActivationBin-back_bone_seq.conv5_4_sep_relubin_bin_conv_BIN01/Input_1/Output_0/Data__const is GPU\r\n",
      "Copy_L0053_ActivationBin-back_bone_seq.conv5_5_sep_relubin_bin_conv_BIN01/Input_1/Output_0/Data_1188_const is GPU\r\n",
      "Copy_L0053_ActivationBin-back_bone_seq.conv5_5_sep_relubin_bin_conv_BIN01/Input_1/Output_0/Data__const is GPU\r\n",
      "Copy_L0060_ActivationBin-back_bone_seq.conv5_6_sep_relubin_bin_conv_BIN01/Input_1/Output_0/Data_1190_const is GPU\r\n",
      "Copy_L0060_ActivationBin-back_bone_seq.conv5_6_sep_relubin_bin_conv_BIN01/Input_1/Output_0/Data__const is GPU\r\n",
      "mbox_conf_reshape/DimData_const is GPU\r\n",
      "conv4_3_0_norm_mbox_loc_perm is GPU\r\n",
      "conv4_3_norm_mbox_loc_perm is GPU\r\n",
      "fc7_mbox_loc_perm is GPU\r\n",
      "conv6_2_mbox_loc_perm is GPU\r\n",
      "conv7_2_mbox_loc_perm is GPU\r\n",
      "conv8_2_mbox_loc_perm is GPU\r\n",
      "conv9_2_mbox_loc_perm is GPU\r\n",
      "mbox_conf_reshape is GPU\r\n",
      "conv9_2_mbox_conf_perm is GPU\r\n",
      "conv8_2_mbox_conf_perm is GPU\r\n",
      "conv7_2_mbox_conf_perm is GPU\r\n",
      "conv6_2_mbox_conf_perm is GPU\r\n",
      "fc7_mbox_conf_perm is GPU\r\n",
      "conv4_3_0_norm_mbox_conf_perm is GPU\r\n",
      "conv4_3_norm_mbox_conf_perm is GPU\r\n",
      "712_const is GPU\r\n",
      "714_const is GPU\r\n",
      "720_const is GPU\r\n",
      "722_const is GPU\r\n",
      "728_const is GPU\r\n",
      "730_const is GPU\r\n",
      "736_const is GPU\r\n",
      "738_const is GPU\r\n",
      "744_const is GPU\r\n",
      "746_const is GPU\r\n",
      "752_const is GPU\r\n",
      "754_const is GPU\r\n",
      "760_const is GPU\r\n",
      "762_const is GPU\r\n",
      "768_const is GPU\r\n",
      "770_const is GPU\r\n",
      "776_const is GPU\r\n",
      "778_const is GPU\r\n",
      "784_const is GPU\r\n",
      "786_const is GPU\r\n",
      "792_const is GPU\r\n",
      "794_const is GPU\r\n",
      "Copy_L0008_ActivationBin-back_bone_seq.conv2_2_sep_relubin_bin_conv_BIN01/Input_1/Output_0/Data_1184_const is GPU\r\n",
      "Copy_L0008_ActivationBin-back_bone_seq.conv2_2_sep_relubin_bin_conv_BIN01/Input_1/Output_0/Data__const is GPU\r\n",
      "Copy_L0013_ActivationBin-back_bone_seq.conv3_1_sep_relubin_bin_conv_BIN01/Input_1/Output_0/Data_1182_const is GPU\r\n",
      "Copy_L0013_ActivationBin-back_bone_seq.conv3_1_sep_relubin_bin_conv_BIN01/Input_1/Output_0/Data__const is GPU\r\n",
      "Copy_L0018_ActivationBin-back_bone_seq.conv3_2_sep_relubin_bin_conv_BIN01/Input_1/Output_0/Data_1192_const is GPU\r\n",
      "Copy_L0018_ActivationBin-back_bone_seq.conv3_2_sep_relubin_bin_conv_BIN01/Input_1/Output_0/Data__const is GPU\r\n",
      "Copy_L0023_ActivationBin-back_bone_seq.conv4_1_sep_relubin_bin_conv_BIN01/Input_1/Output_0/Data_1174_const is GPU\r\n",
      "Copy_L0023_ActivationBin-back_bone_seq.conv4_1_sep_relubin_bin_conv_BIN01/Input_1/Output_0/Data__const is GPU\r\n",
      "Copy_L0028_ActivationBin-back_bone_seq.conv4_2_sep_relubin_bin_conv_BIN01/Input_1/Output_0/Data_1178_const is GPU\r\n",
      "Copy_L0028_ActivationBin-back_bone_seq.conv4_2_sep_relubin_bin_conv_BIN01/Input_1/Output_0/Data__const is GPU\r\n",
      "Copy_L0033_ActivationBin-back_bone_seq.conv5_1_sep_relubin_bin_conv_BIN01/Input_1/Output_0/Data_1172_const is GPU\r\n",
      "Copy_L0033_ActivationBin-back_bone_seq.conv5_1_sep_relubin_bin_conv_BIN01/Input_1/Output_0/Data__const is GPU\r\n",
      "Copy_L0038_ActivationBin-back_bone_seq.conv5_2_sep_relubin_bin_conv_BIN01/Input_1/Output_0/Data_1180_const is GPU\r\n",
      "Copy_L0038_ActivationBin-back_bone_seq.conv5_2_sep_relubin_bin_conv_BIN01/Input_1/Output_0/Data__const is GPU\r\n",
      "Copy_L0043_ActivationBin-back_bone_seq.conv5_3_sep_relubin_bin_conv_BIN01/Input_1/Output_0/Data_1176_const is GPU\r\n",
      "Copy_L0043_ActivationBin-back_bone_seq.conv5_3_sep_relubin_bin_conv_BIN01/Input_1/Output_0/Data__const is GPU\r\n",
      "Copy_L0048_ActivationBin-back_bone_seq.conv5_4_sep_relubin_bin_conv_BIN01/Input_1/Output_0/Data_1186_const is GPU\r\n",
      "Copy_L0048_ActivationBin-back_bone_seq.conv5_4_sep_relubin_bin_conv_BIN01/Input_1/Output_0/Data__const is GPU\r\n",
      "Copy_L0053_ActivationBin-back_bone_seq.conv5_5_sep_relubin_bin_conv_BIN01/Input_1/Output_0/Data_1188_const is GPU\r\n",
      "Copy_L0053_ActivationBin-back_bone_seq.conv5_5_sep_relubin_bin_conv_BIN01/Input_1/Output_0/Data__const is GPU\r\n",
      "Copy_L0060_ActivationBin-back_bone_seq.conv5_6_sep_relubin_bin_conv_BIN01/Input_1/Output_0/Data_1190_const is GPU\r\n",
      "Copy_L0060_ActivationBin-back_bone_seq.conv5_6_sep_relubin_bin_conv_BIN01/Input_1/Output_0/Data__const is GPU\r\n",
      "mbox_conf_reshape/DimData_const is GPU\r\n",
      "130 is GPU\r\n",
      "129/Output_0/Data__const is GPU\r\n",
      "138 is GPU\r\n",
      "137/Output_0/Data__const is GPU\r\n",
      "140/Dims/Output_0/Data__const is GPU\r\n",
      "141/Dims/Output_0/Data__const is GPU\r\n",
      "150/Dims/Output_0/Data__const is GPU\r\n",
      "gaze_vector/Dims/Output_0/Data__const is GPU\r\n",
      "130 is GPU\r\n",
      "129/Output_0/Data__const is GPU\r\n",
      "138 is GPU\r\n",
      "137/Output_0/Data__const is GPU\r\n",
      "140/Dims/Output_0/Data__const is GPU\r\n",
      "141/Dims/Output_0/Data__const is GPU\r\n",
      "150/Dims/Output_0/Data__const is GPU\r\n",
      "gaze_vector/Dims/Output_0/Data__const is GPU\r\n",
      "results/\r\n",
      "results/FP16/\r\n",
      "results/FP16/gpu/\r\n",
      "results/FP16/gpu/stats.txt\r\n",
      "results/FP16/gpu/out.mp4\r\n",
      "stderr.log\r\n"
     ]
    }
   ],
   "source": [
    "!cat stdout.log"
   ]
  },
  {
   "cell_type": "markdown",
   "metadata": {},
   "source": [
    "#### View stderr.log\n",
    "This can be used for debugging."
   ]
  },
  {
   "cell_type": "code",
   "execution_count": 27,
   "metadata": {},
   "outputs": [
    {
     "name": "stdout",
     "output_type": "stream",
     "text": [
      "  % Total    % Received % Xferd  Average Speed   Time    Time     Time  Current\r\n",
      "                                 Dload  Upload   Total   Spent    Left  Speed\r\n",
      "100   149  100   149    0     0   1056      0 --:--:-- --:--:-- --:--:--  1064\r\n",
      "100 31.4M  100 31.4M    0     0  1805k      0  0:00:17  0:00:17 --:--:-- 1744k\r\n",
      "INFO:root:The face-detection-adas-binary-0001 always use INT1 precision\r\n",
      "/submission/computer-pointer-controller-benchmark/src/model.py:30: DeprecationWarning: Reading network using constructor is deprecated. Please, use IECore.read_network() method instead\r\n",
      "  self.network = IENetwork(model=model_xml, weights=model_bin)\r\n",
      "ERROR:root:Cannot load library '/opt/intel/openvino/deployment_tools/inference_engine/lib/intel64/libcpu_extension_sse4.so': /opt/intel/openvino/deployment_tools/inference_engine/lib/intel64/libcpu_extension_sse4.so: cannot open shared object file: No such file or directory\r\n",
      "DEBUG:root:IR successfully loaded ../intel/face-detection-adas-binary-0001/INT1/face-detection-adas-binary-0001.xml into Inference Engine.\r\n",
      "/submission/computer-pointer-controller-benchmark/src/model.py:30: DeprecationWarning: Reading network using constructor is deprecated. Please, use IECore.read_network() method instead\r\n",
      "  self.network = IENetwork(model=model_xml, weights=model_bin)\r\n",
      "ERROR:root:Cannot load library '/opt/intel/openvino/deployment_tools/inference_engine/lib/intel64/libcpu_extension_sse4.so': /opt/intel/openvino/deployment_tools/inference_engine/lib/intel64/libcpu_extension_sse4.so: cannot open shared object file: No such file or directory\r\n",
      "DEBUG:root:IR successfully loaded ../intel/landmarks-regression-retail-0009/FP16/landmarks-regression-retail-0009.xml into Inference Engine.\r\n",
      "/submission/computer-pointer-controller-benchmark/src/model.py:30: DeprecationWarning: Reading network using constructor is deprecated. Please, use IECore.read_network() method instead\r\n",
      "  self.network = IENetwork(model=model_xml, weights=model_bin)\r\n",
      "ERROR:root:Cannot load library '/opt/intel/openvino/deployment_tools/inference_engine/lib/intel64/libcpu_extension_sse4.so': /opt/intel/openvino/deployment_tools/inference_engine/lib/intel64/libcpu_extension_sse4.so: cannot open shared object file: No such file or directory\r\n",
      "DEBUG:root:IR successfully loaded ../intel/head-pose-estimation-adas-0001/FP16/head-pose-estimation-adas-0001.xml into Inference Engine.\r\n",
      "/submission/computer-pointer-controller-benchmark/src/model.py:30: DeprecationWarning: Reading network using constructor is deprecated. Please, use IECore.read_network() method instead\r\n",
      "  self.network = IENetwork(model=model_xml, weights=model_bin)\r\n",
      "ERROR:root:Cannot load library '/opt/intel/openvino/deployment_tools/inference_engine/lib/intel64/libcpu_extension_sse4.so': /opt/intel/openvino/deployment_tools/inference_engine/lib/intel64/libcpu_extension_sse4.so: cannot open shared object file: No such file or directory\r\n",
      "DEBUG:root:IR successfully loaded ../intel/gaze-estimation-adas-0002/FP16/gaze-estimation-adas-0002.xml into Inference Engine.\r\n",
      "INFO:root:Current Frame: 30 / 595\r\n",
      "DEBUG:root:mouse_point[_X], mouse_point[_Y]: 1875, 130\r\n",
      "INFO:root:Current Frame: 60 / 595\r\n",
      "DEBUG:root:mouse_point[_X], mouse_point[_Y]: 914, 143\r\n",
      "INFO:root:Current Frame: 90 / 595\r\n",
      "DEBUG:root:mouse_point[_X], mouse_point[_Y]: 347, 688\r\n",
      "INFO:root:Current Frame: 120 / 595\r\n",
      "DEBUG:root:mouse_point[_X], mouse_point[_Y]: 548, 682\r\n",
      "INFO:root:Current Frame: 150 / 595\r\n",
      "DEBUG:root:mouse_point[_X], mouse_point[_Y]: 1590, 619\r\n",
      "INFO:root:Current Frame: 180 / 595\r\n",
      "DEBUG:root:mouse_point[_X], mouse_point[_Y]: 1787, 149\r\n",
      "INFO:root:Current Frame: 210 / 595\r\n",
      "DEBUG:root:mouse_point[_X], mouse_point[_Y]: 1677, 189\r\n",
      "INFO:root:Current Frame: 240 / 595\r\n",
      "DEBUG:root:mouse_point[_X], mouse_point[_Y]: 1590, 222\r\n",
      "INFO:root:Current Frame: 270 / 595\r\n",
      "DEBUG:root:mouse_point[_X], mouse_point[_Y]: 1421, 527\r\n",
      "INFO:root:Current Frame: 300 / 595\r\n",
      "DEBUG:root:mouse_point[_X], mouse_point[_Y]: 1900, 41\r\n",
      "INFO:root:Current Frame: 330 / 595\r\n",
      "DEBUG:root:mouse_point[_X], mouse_point[_Y]: 647, 20\r\n",
      "INFO:root:Current Frame: 360 / 595\r\n",
      "DEBUG:root:mouse_point[_X], mouse_point[_Y]: 381, 52\r\n",
      "INFO:root:Current Frame: 390 / 595\r\n",
      "DEBUG:root:mouse_point[_X], mouse_point[_Y]: 1559, 196\r\n",
      "INFO:root:Current Frame: 420 / 595\r\n",
      "DEBUG:root:mouse_point[_X], mouse_point[_Y]: 1171, 722\r\n",
      "INFO:root:Current Frame: 450 / 595\r\n",
      "DEBUG:root:mouse_point[_X], mouse_point[_Y]: 1491, 551\r\n",
      "INFO:root:Current Frame: 480 / 595\r\n",
      "DEBUG:root:mouse_point[_X], mouse_point[_Y]: 1599, 144\r\n",
      "INFO:root:Current Frame: 510 / 595\r\n",
      "DEBUG:root:mouse_point[_X], mouse_point[_Y]: 1456, 557\r\n",
      "INFO:root:Current Frame: 540 / 595\r\n",
      "DEBUG:root:mouse_point[_X], mouse_point[_Y]: 1741, 487\r\n",
      "INFO:root:Current Frame: 570 / 595\r\n",
      "DEBUG:root:mouse_point[_X], mouse_point[_Y]: 1900, 221\r\n",
      "INFO:root:Current Frame: 595 / 595\r\n",
      "INFO:root:Input stream ended...\r\n"
     ]
    }
   ],
   "source": [
    "!cat stderr.log"
   ]
  },
  {
   "cell_type": "markdown",
   "metadata": {},
   "source": [
    "## Step 1.7: Neural Compute Stick 2\n",
    "In the cell below, write a script to submit a job to an <a \n",
    "    href=\"https://software.intel.com/en-us/iot/hardware/iei-tank-dev-kit-core\">IEI \n",
    "    Tank 870-Q170</a> edge node with an <a href=\"https://ark.intel.com/products/88186/Intel-Core-i5-6500TE-Processor-6M-Cache-up-to-3-30-GHz-\">Intel Core i5-6500te CPU</a>. The inference workload should run on an <a \n",
    "    href=\"https://software.intel.com/en-us/neural-compute-stick\">Intel Neural Compute Stick 2</a> installed in this  node."
   ]
  },
  {
   "cell_type": "code",
   "execution_count": 28,
   "metadata": {},
   "outputs": [
    {
     "name": "stdout",
     "output_type": "stream",
     "text": [
      "slEDO8AWYfBu0qCMAOKFxu6DJ5hpyyIM\n"
     ]
    }
   ],
   "source": [
    "#Submit job to the queue\n",
    "vpu_job_id = !qsub queue_job.sh -d . -l nodes=1:tank-870:i5-6500te:intel-ncs2 -F \"HETERO:MYRIAD,CPU /output/results/FP16/vpu FP16\"\n",
    "\n",
    "print(vpu_job_id[0])"
   ]
  },
  {
   "cell_type": "markdown",
   "metadata": {},
   "source": [
    "#### Get Results\n",
    "\n",
    "Run the next cell to retrieve your job's results."
   ]
  },
  {
   "cell_type": "code",
   "execution_count": 29,
   "metadata": {},
   "outputs": [
    {
     "name": "stdout",
     "output_type": "stream",
     "text": [
      "getResults() is blocking until results of the job (id:slEDO8AWYfBu0qCMAOKFxu6DJ5hpyyIM) are ready.\n",
      "Please wait....................................Success!\n",
      "output.tgz was downloaded in the same folder as this notebook.\n"
     ]
    }
   ],
   "source": [
    "import get_results\n",
    "get_results.getResults(vpu_job_id[0], filename='output.tgz', blocking=True)"
   ]
  },
  {
   "cell_type": "markdown",
   "metadata": {},
   "source": [
    "#### Unpack your output files and view stdout.log"
   ]
  },
  {
   "cell_type": "code",
   "execution_count": 30,
   "metadata": {},
   "outputs": [],
   "source": [
    "!tar zxf output.tgz"
   ]
  },
  {
   "cell_type": "code",
   "execution_count": 31,
   "metadata": {},
   "outputs": [
    {
     "name": "stdout",
     "output_type": "stream",
     "text": [
      "Archive:  benchmark.zip\r\n",
      "491ce158c304beea0d40a6306599592d4db96970\r\n",
      "   creating: computer-pointer-controller-benchmark/\r\n",
      "  inflating: computer-pointer-controller-benchmark/.gitignore  \r\n",
      "  inflating: computer-pointer-controller-benchmark/README.md  \r\n",
      "   creating: computer-pointer-controller-benchmark/bin/\r\n",
      " extracting: computer-pointer-controller-benchmark/bin/.gitkeep  \r\n",
      "  inflating: computer-pointer-controller-benchmark/bin/demo.mp4  \r\n",
      "   creating: computer-pointer-controller-benchmark/intel/\r\n",
      "   creating: computer-pointer-controller-benchmark/intel/face-detection-adas-binary-0001/\r\n",
      "   creating: computer-pointer-controller-benchmark/intel/face-detection-adas-binary-0001/INT1/\r\n",
      "  inflating: computer-pointer-controller-benchmark/intel/face-detection-adas-binary-0001/INT1/face-detection-adas-binary-0001.bin  \r\n",
      "  inflating: computer-pointer-controller-benchmark/intel/face-detection-adas-binary-0001/INT1/face-detection-adas-binary-0001.xml  \r\n",
      "   creating: computer-pointer-controller-benchmark/intel/gaze-estimation-adas-0002/\r\n",
      "   creating: computer-pointer-controller-benchmark/intel/gaze-estimation-adas-0002/FP16/\r\n",
      "  inflating: computer-pointer-controller-benchmark/intel/gaze-estimation-adas-0002/FP16/gaze-estimation-adas-0002.bin  \r\n",
      "  inflating: computer-pointer-controller-benchmark/intel/gaze-estimation-adas-0002/FP16/gaze-estimation-adas-0002.xml  \r\n",
      "   creating: computer-pointer-controller-benchmark/intel/gaze-estimation-adas-0002/FP32/\r\n",
      "  inflating: computer-pointer-controller-benchmark/intel/gaze-estimation-adas-0002/FP32/gaze-estimation-adas-0002.bin  \r\n",
      "  inflating: computer-pointer-controller-benchmark/intel/gaze-estimation-adas-0002/FP32/gaze-estimation-adas-0002.xml  \r\n",
      "   creating: computer-pointer-controller-benchmark/intel/gaze-estimation-adas-0002/INT8/\r\n",
      "  inflating: computer-pointer-controller-benchmark/intel/gaze-estimation-adas-0002/INT8/gaze-estimation-adas-0002.bin  \r\n",
      "  inflating: computer-pointer-controller-benchmark/intel/gaze-estimation-adas-0002/INT8/gaze-estimation-adas-0002.xml  \r\n",
      "   creating: computer-pointer-controller-benchmark/intel/head-pose-estimation-adas-0001/\r\n",
      "   creating: computer-pointer-controller-benchmark/intel/head-pose-estimation-adas-0001/FP16/\r\n",
      "  inflating: computer-pointer-controller-benchmark/intel/head-pose-estimation-adas-0001/FP16/head-pose-estimation-adas-0001.bin  \r\n",
      "  inflating: computer-pointer-controller-benchmark/intel/head-pose-estimation-adas-0001/FP16/head-pose-estimation-adas-0001.xml  \r\n",
      "   creating: computer-pointer-controller-benchmark/intel/head-pose-estimation-adas-0001/FP32/\r\n",
      "  inflating: computer-pointer-controller-benchmark/intel/head-pose-estimation-adas-0001/FP32/head-pose-estimation-adas-0001.bin  \r\n",
      "  inflating: computer-pointer-controller-benchmark/intel/head-pose-estimation-adas-0001/FP32/head-pose-estimation-adas-0001.xml  \r\n",
      "   creating: computer-pointer-controller-benchmark/intel/landmarks-regression-retail-0009/\r\n",
      "   creating: computer-pointer-controller-benchmark/intel/landmarks-regression-retail-0009/FP16/\r\n",
      "  inflating: computer-pointer-controller-benchmark/intel/landmarks-regression-retail-0009/FP16/landmarks-regression-retail-0009.bin  \r\n",
      "  inflating: computer-pointer-controller-benchmark/intel/landmarks-regression-retail-0009/FP16/landmarks-regression-retail-0009.xml  \r\n",
      "   creating: computer-pointer-controller-benchmark/intel/landmarks-regression-retail-0009/FP32/\r\n",
      "  inflating: computer-pointer-controller-benchmark/intel/landmarks-regression-retail-0009/FP32/landmarks-regression-retail-0009.bin  \r\n",
      "  inflating: computer-pointer-controller-benchmark/intel/landmarks-regression-retail-0009/FP32/landmarks-regression-retail-0009.xml  \r\n",
      "  inflating: computer-pointer-controller-benchmark/requirements.txt  \r\n",
      "   creating: computer-pointer-controller-benchmark/src/\r\n",
      "  inflating: computer-pointer-controller-benchmark/src/face_detection.py  \r\n",
      "  inflating: computer-pointer-controller-benchmark/src/facial_landmarks_detection.py  \r\n",
      "  inflating: computer-pointer-controller-benchmark/src/gaze_estimation.py  \r\n",
      "  inflating: computer-pointer-controller-benchmark/src/head_pose_estimation.py  \r\n",
      "  inflating: computer-pointer-controller-benchmark/src/input_feeder.py  \r\n",
      "  inflating: computer-pointer-controller-benchmark/src/main.py  \r\n",
      "  inflating: computer-pointer-controller-benchmark/src/model.py  \r\n",
      "  inflating: computer-pointer-controller-benchmark/src/mouse_controller.py  \r\n",
      "results/\r\n",
      "results/FP16/\r\n",
      "results/FP16/vpu/\r\n",
      "results/FP16/vpu/out.mp4\r\n",
      "stderr.log\r\n"
     ]
    }
   ],
   "source": [
    "!cat stdout.log"
   ]
  },
  {
   "cell_type": "markdown",
   "metadata": {},
   "source": [
    "#### View stderr.log\n",
    "This can be used for debugging."
   ]
  },
  {
   "cell_type": "code",
   "execution_count": 32,
   "metadata": {},
   "outputs": [
    {
     "name": "stdout",
     "output_type": "stream",
     "text": [
      "  % Total    % Received % Xferd  Average Speed   Time    Time     Time  Current\r\n",
      "                                 Dload  Upload   Total   Spent    Left  Speed\r\n",
      "100   149  100   149    0     0    519      0 --:--:-- --:--:-- --:--:--   519\r\n",
      "100 31.4M  100 31.4M    0     0  18.9M      0  0:00:01  0:00:01 --:--:-- 25.4M\r\n",
      "INFO:root:The face-detection-adas-binary-0001 always use INT1 precision\r\n",
      "/submission/computer-pointer-controller-benchmark/src/model.py:30: DeprecationWarning: Reading network using constructor is deprecated. Please, use IECore.read_network() method instead\r\n",
      "  self.network = IENetwork(model=model_xml, weights=model_bin)\r\n",
      "ERROR:root:Cannot load library '/opt/intel/openvino/deployment_tools/inference_engine/lib/intel64/libcpu_extension_sse4.so': /opt/intel/openvino/deployment_tools/inference_engine/lib/intel64/libcpu_extension_sse4.so: cannot open shared object file: No such file or directory\r\n",
      "Traceback (most recent call last):\r\n",
      "  File \"main.py\", line 342, in <module>\r\n",
      "    main()\r\n",
      "  File \"main.py\", line 339, in main\r\n",
      "    infer_on_video(args)\r\n",
      "  File \"main.py\", line 209, in infer_on_video\r\n",
      "    face_detection = Face_Detection(locations[FACE_DETECTION_MODEL], device, extensions=CPU_EXTENSION)\r\n",
      "  File \"/submission/computer-pointer-controller-benchmark/src/face_detection.py\", line 11, in __init__\r\n",
      "    super(Face_Detection, self).__init__(model_name, device, extensions)\r\n",
      "  File \"/submission/computer-pointer-controller-benchmark/src/model.py\", line 21, in __init__\r\n",
      "    self.load_model()\r\n",
      "  File \"/submission/computer-pointer-controller-benchmark/src/model.py\", line 36, in load_model\r\n",
      "    self.exec_network = self.plugin.load_network(self.network, self.device)\r\n",
      "  File \"ie_api.pyx\", line 178, in openvino.inference_engine.ie_api.IECore.load_network\r\n",
      "  File \"ie_api.pyx\", line 187, in openvino.inference_engine.ie_api.IECore.load_network\r\n",
      "RuntimeError: Can not init Myriad device: NC_ERROR\r\n"
     ]
    }
   ],
   "source": [
    "!cat stderr.log"
   ]
  },
  {
   "cell_type": "markdown",
   "metadata": {},
   "source": [
    "## Step 1.8: IEI Mustang-F100-A10\n",
    "In the cell below, write a script to submit a job to an <a \n",
    "    href=\"https://software.intel.com/en-us/iot/hardware/iei-tank-dev-kit-core\">IEI \n",
    "    Tank 870-Q170</a> edge node with an <a href=\"https://ark.intel.com/products/88186/Intel-Core-i5-6500TE-Processor-6M-Cache-up-to-3-30-GHz-\">Intel Core™ i5-6500te CPU</a> . The inference workload will run on the <a href=\"https://www.ieiworld.com/mustang-f100/en/\"> IEI Mustang-F100-A10 </a> FPGA card installed in this node"
   ]
  },
  {
   "cell_type": "code",
   "execution_count": 33,
   "metadata": {},
   "outputs": [
    {
     "name": "stdout",
     "output_type": "stream",
     "text": [
      "x3pqkDHJ3V8dS1vtcJDDa8bOp6edywpc\n"
     ]
    }
   ],
   "source": [
    "#Submit job to the queue\n",
    "fpga_job_id = !qsub queue_job.sh -d . -l nodes=1:tank-870:i5-6500te:iei-mustang-f100-a10 -F \"HETERO:FPGA,CPU /output/results/FP16/fpga FP16\"\n",
    "\n",
    "print(fpga_job_id[0])"
   ]
  },
  {
   "cell_type": "markdown",
   "metadata": {},
   "source": [
    "#### Get Results\n",
    "\n",
    "Run the next cell to retrieve your job's results."
   ]
  },
  {
   "cell_type": "code",
   "execution_count": 34,
   "metadata": {},
   "outputs": [
    {
     "name": "stdout",
     "output_type": "stream",
     "text": [
      "getResults() is blocking until results of the job (id:x3pqkDHJ3V8dS1vtcJDDa8bOp6edywpc) are ready.\n",
      "Please wait...................Success!\n",
      "output.tgz was downloaded in the same folder as this notebook.\n"
     ]
    }
   ],
   "source": [
    "import get_results\n",
    "get_results.getResults(fpga_job_id[0], filename='output.tgz', blocking=True)"
   ]
  },
  {
   "cell_type": "markdown",
   "metadata": {},
   "source": [
    "#### Unpack your output files and view stdout.log"
   ]
  },
  {
   "cell_type": "code",
   "execution_count": 35,
   "metadata": {},
   "outputs": [],
   "source": [
    "!tar zxf output.tgz"
   ]
  },
  {
   "cell_type": "code",
   "execution_count": 36,
   "metadata": {},
   "outputs": [
    {
     "name": "stdout",
     "output_type": "stream",
     "text": [
      "Archive:  benchmark.zip\r\n",
      "491ce158c304beea0d40a6306599592d4db96970\r\n",
      "   creating: computer-pointer-controller-benchmark/\r\n",
      "  inflating: computer-pointer-controller-benchmark/.gitignore  \r\n",
      "  inflating: computer-pointer-controller-benchmark/README.md  \r\n",
      "   creating: computer-pointer-controller-benchmark/bin/\r\n",
      " extracting: computer-pointer-controller-benchmark/bin/.gitkeep  \r\n",
      "  inflating: computer-pointer-controller-benchmark/bin/demo.mp4  \r\n",
      "   creating: computer-pointer-controller-benchmark/intel/\r\n",
      "   creating: computer-pointer-controller-benchmark/intel/face-detection-adas-binary-0001/\r\n",
      "   creating: computer-pointer-controller-benchmark/intel/face-detection-adas-binary-0001/INT1/\r\n",
      "  inflating: computer-pointer-controller-benchmark/intel/face-detection-adas-binary-0001/INT1/face-detection-adas-binary-0001.bin  \r\n",
      "  inflating: computer-pointer-controller-benchmark/intel/face-detection-adas-binary-0001/INT1/face-detection-adas-binary-0001.xml  \r\n",
      "   creating: computer-pointer-controller-benchmark/intel/gaze-estimation-adas-0002/\r\n",
      "   creating: computer-pointer-controller-benchmark/intel/gaze-estimation-adas-0002/FP16/\r\n",
      "  inflating: computer-pointer-controller-benchmark/intel/gaze-estimation-adas-0002/FP16/gaze-estimation-adas-0002.bin  \r\n",
      "  inflating: computer-pointer-controller-benchmark/intel/gaze-estimation-adas-0002/FP16/gaze-estimation-adas-0002.xml  \r\n",
      "   creating: computer-pointer-controller-benchmark/intel/gaze-estimation-adas-0002/FP32/\r\n",
      "  inflating: computer-pointer-controller-benchmark/intel/gaze-estimation-adas-0002/FP32/gaze-estimation-adas-0002.bin  \r\n",
      "  inflating: computer-pointer-controller-benchmark/intel/gaze-estimation-adas-0002/FP32/gaze-estimation-adas-0002.xml  \r\n",
      "   creating: computer-pointer-controller-benchmark/intel/gaze-estimation-adas-0002/INT8/\r\n",
      "  inflating: computer-pointer-controller-benchmark/intel/gaze-estimation-adas-0002/INT8/gaze-estimation-adas-0002.bin  \r\n",
      "  inflating: computer-pointer-controller-benchmark/intel/gaze-estimation-adas-0002/INT8/gaze-estimation-adas-0002.xml  \r\n",
      "   creating: computer-pointer-controller-benchmark/intel/head-pose-estimation-adas-0001/\r\n",
      "   creating: computer-pointer-controller-benchmark/intel/head-pose-estimation-adas-0001/FP16/\r\n",
      "  inflating: computer-pointer-controller-benchmark/intel/head-pose-estimation-adas-0001/FP16/head-pose-estimation-adas-0001.bin  \r\n",
      "  inflating: computer-pointer-controller-benchmark/intel/head-pose-estimation-adas-0001/FP16/head-pose-estimation-adas-0001.xml  \r\n",
      "   creating: computer-pointer-controller-benchmark/intel/head-pose-estimation-adas-0001/FP32/\r\n",
      "  inflating: computer-pointer-controller-benchmark/intel/head-pose-estimation-adas-0001/FP32/head-pose-estimation-adas-0001.bin  \r\n",
      "  inflating: computer-pointer-controller-benchmark/intel/head-pose-estimation-adas-0001/FP32/head-pose-estimation-adas-0001.xml  \r\n",
      "   creating: computer-pointer-controller-benchmark/intel/landmarks-regression-retail-0009/\r\n",
      "   creating: computer-pointer-controller-benchmark/intel/landmarks-regression-retail-0009/FP16/\r\n",
      "  inflating: computer-pointer-controller-benchmark/intel/landmarks-regression-retail-0009/FP16/landmarks-regression-retail-0009.bin  \r\n",
      "  inflating: computer-pointer-controller-benchmark/intel/landmarks-regression-retail-0009/FP16/landmarks-regression-retail-0009.xml  \r\n",
      "   creating: computer-pointer-controller-benchmark/intel/landmarks-regression-retail-0009/FP32/\r\n",
      "  inflating: computer-pointer-controller-benchmark/intel/landmarks-regression-retail-0009/FP32/landmarks-regression-retail-0009.bin  \r\n",
      "  inflating: computer-pointer-controller-benchmark/intel/landmarks-regression-retail-0009/FP32/landmarks-regression-retail-0009.xml  \r\n",
      "  inflating: computer-pointer-controller-benchmark/requirements.txt  \r\n",
      "   creating: computer-pointer-controller-benchmark/src/\r\n",
      "  inflating: computer-pointer-controller-benchmark/src/face_detection.py  \r\n",
      "  inflating: computer-pointer-controller-benchmark/src/facial_landmarks_detection.py  \r\n",
      "  inflating: computer-pointer-controller-benchmark/src/gaze_estimation.py  \r\n",
      "  inflating: computer-pointer-controller-benchmark/src/head_pose_estimation.py  \r\n",
      "  inflating: computer-pointer-controller-benchmark/src/input_feeder.py  \r\n",
      "  inflating: computer-pointer-controller-benchmark/src/main.py  \r\n",
      "  inflating: computer-pointer-controller-benchmark/src/model.py  \r\n",
      "  inflating: computer-pointer-controller-benchmark/src/mouse_controller.py  \r\n",
      "INTELFPGAOCLSDKROOT is not set\r\n",
      "Using script's current directory (/opt/altera/aocl-pro-rte/aclrte-linux64)\r\n",
      "\r\n",
      "aoc was not found, but aocl was found. Assuming only RTE is installed.\r\n",
      "\r\n",
      "AOCL_BOARD_PACKAGE_ROOT is set to /opt/intel/openvino/bitstreams/a10_vision_design_sg2_bitstreams/BSP/a10_1150_sg2. Using that.\r\n",
      "Adding /opt/altera/aocl-pro-rte/aclrte-linux64/bin to PATH\r\n",
      "Adding /opt/altera/aocl-pro-rte/aclrte-linux64/linux64/lib to LD_LIBRARY_PATH\r\n",
      "Adding /opt/altera/aocl-pro-rte/aclrte-linux64/host/linux64/lib to LD_LIBRARY_PATH\r\n",
      "Adding /opt/intel/openvino/bitstreams/a10_vision_design_sg2_bitstreams/BSP/a10_1150_sg2/linux64/lib to LD_LIBRARY_PATH\r\n",
      "aocl program: Running program from /opt/intel/openvino/bitstreams/a10_vision_design_sg2_bitstreams/BSP/a10_1150_sg2/linux64/libexec\r\n",
      "Failed to open file: /opt/intel/openvino/bitstreams/a10_vision_design_sg2_bitstreams/2020-2_PL2_FP16_MobileNet_Clamp.aocx\r\n",
      "Error: Failed to find aocx\r\n",
      "aocl program: Program failed.\r\n",
      "results/\r\n",
      "results/FP16/\r\n",
      "results/FP16/fpga/\r\n",
      "results/FP16/fpga/stats.txt\r\n",
      "results/FP16/fpga/out.mp4\r\n",
      "stderr.log\r\n"
     ]
    }
   ],
   "source": [
    "!cat stdout.log"
   ]
  },
  {
   "cell_type": "markdown",
   "metadata": {},
   "source": [
    "#### View stderr.log\n",
    "This can be used for debugging."
   ]
  },
  {
   "cell_type": "code",
   "execution_count": 37,
   "metadata": {},
   "outputs": [
    {
     "name": "stdout",
     "output_type": "stream",
     "text": [
      "  % Total    % Received % Xferd  Average Speed   Time    Time     Time  Current\r\n",
      "                                 Dload  Upload   Total   Spent    Left  Speed\r\n",
      "100   149  100   149    0     0    584      0 --:--:-- --:--:-- --:--:--   584\r\n",
      "100 31.4M  100 31.4M    0     0  19.2M      0  0:00:01  0:00:01 --:--:-- 24.8M\r\n",
      "Couldn't open file /opt/intel/openvino/bitstreams/a10_vision_design_sg2_bitstreams/2020-2_PL2_FP16_MobileNet_Clamp.aocx for reading\r\n",
      "INFO:root:The face-detection-adas-binary-0001 always use INT1 precision\r\n",
      "/submission/computer-pointer-controller-benchmark/src/model.py:30: DeprecationWarning: Reading network using constructor is deprecated. Please, use IECore.read_network() method instead\r\n",
      "  self.network = IENetwork(model=model_xml, weights=model_bin)\r\n",
      "ERROR:root:Cannot load library '/opt/intel/openvino/deployment_tools/inference_engine/lib/intel64/libcpu_extension_sse4.so': /opt/intel/openvino/deployment_tools/inference_engine/lib/intel64/libcpu_extension_sse4.so: cannot open shared object file: No such file or directory\r\n",
      "DEBUG:root:IR successfully loaded ../intel/face-detection-adas-binary-0001/INT1/face-detection-adas-binary-0001.xml into Inference Engine.\r\n",
      "/submission/computer-pointer-controller-benchmark/src/model.py:30: DeprecationWarning: Reading network using constructor is deprecated. Please, use IECore.read_network() method instead\r\n",
      "  self.network = IENetwork(model=model_xml, weights=model_bin)\r\n",
      "ERROR:root:Cannot load library '/opt/intel/openvino/deployment_tools/inference_engine/lib/intel64/libcpu_extension_sse4.so': /opt/intel/openvino/deployment_tools/inference_engine/lib/intel64/libcpu_extension_sse4.so: cannot open shared object file: No such file or directory\r\n",
      "DEBUG:root:IR successfully loaded ../intel/landmarks-regression-retail-0009/FP16/landmarks-regression-retail-0009.xml into Inference Engine.\r\n",
      "/submission/computer-pointer-controller-benchmark/src/model.py:30: DeprecationWarning: Reading network using constructor is deprecated. Please, use IECore.read_network() method instead\r\n",
      "  self.network = IENetwork(model=model_xml, weights=model_bin)\r\n",
      "ERROR:root:Cannot load library '/opt/intel/openvino/deployment_tools/inference_engine/lib/intel64/libcpu_extension_sse4.so': /opt/intel/openvino/deployment_tools/inference_engine/lib/intel64/libcpu_extension_sse4.so: cannot open shared object file: No such file or directory\r\n",
      "DEBUG:root:IR successfully loaded ../intel/head-pose-estimation-adas-0001/FP16/head-pose-estimation-adas-0001.xml into Inference Engine.\r\n",
      "/submission/computer-pointer-controller-benchmark/src/model.py:30: DeprecationWarning: Reading network using constructor is deprecated. Please, use IECore.read_network() method instead\r\n",
      "  self.network = IENetwork(model=model_xml, weights=model_bin)\r\n",
      "ERROR:root:Cannot load library '/opt/intel/openvino/deployment_tools/inference_engine/lib/intel64/libcpu_extension_sse4.so': /opt/intel/openvino/deployment_tools/inference_engine/lib/intel64/libcpu_extension_sse4.so: cannot open shared object file: No such file or directory\r\n",
      "DEBUG:root:IR successfully loaded ../intel/gaze-estimation-adas-0002/FP16/gaze-estimation-adas-0002.xml into Inference Engine.\r\n",
      "INFO:root:Current Frame: 30 / 595\r\n",
      "DEBUG:root:mouse_point[_X], mouse_point[_Y]: 1864, 136\r\n",
      "INFO:root:Current Frame: 60 / 595\r\n",
      "DEBUG:root:mouse_point[_X], mouse_point[_Y]: 926, 128\r\n",
      "INFO:root:Current Frame: 90 / 595\r\n",
      "DEBUG:root:mouse_point[_X], mouse_point[_Y]: 223, 690\r\n",
      "INFO:root:Current Frame: 120 / 595\r\n",
      "DEBUG:root:mouse_point[_X], mouse_point[_Y]: 499, 686\r\n",
      "INFO:root:Current Frame: 150 / 595\r\n",
      "DEBUG:root:mouse_point[_X], mouse_point[_Y]: 1612, 623\r\n",
      "INFO:root:Current Frame: 180 / 595\r\n",
      "DEBUG:root:mouse_point[_X], mouse_point[_Y]: 1819, 137\r\n",
      "INFO:root:Current Frame: 210 / 595\r\n",
      "DEBUG:root:mouse_point[_X], mouse_point[_Y]: 1732, 162\r\n",
      "INFO:root:Current Frame: 240 / 595\r\n",
      "DEBUG:root:mouse_point[_X], mouse_point[_Y]: 1568, 218\r\n",
      "INFO:root:Current Frame: 270 / 595\r\n",
      "DEBUG:root:mouse_point[_X], mouse_point[_Y]: 1457, 528\r\n",
      "INFO:root:Current Frame: 300 / 595\r\n",
      "DEBUG:root:mouse_point[_X], mouse_point[_Y]: 1900, 28\r\n",
      "INFO:root:Current Frame: 330 / 595\r\n",
      "DEBUG:root:mouse_point[_X], mouse_point[_Y]: 966, 20\r\n",
      "INFO:root:Current Frame: 360 / 595\r\n",
      "DEBUG:root:mouse_point[_X], mouse_point[_Y]: 522, 74\r\n",
      "INFO:root:Current Frame: 390 / 595\r\n",
      "DEBUG:root:mouse_point[_X], mouse_point[_Y]: 1619, 143\r\n",
      "INFO:root:Current Frame: 420 / 595\r\n",
      "DEBUG:root:mouse_point[_X], mouse_point[_Y]: 958, 725\r\n",
      "INFO:root:Current Frame: 450 / 595\r\n",
      "DEBUG:root:mouse_point[_X], mouse_point[_Y]: 1583, 486\r\n",
      "INFO:root:Current Frame: 480 / 595\r\n",
      "DEBUG:root:mouse_point[_X], mouse_point[_Y]: 1618, 89\r\n",
      "INFO:root:Current Frame: 510 / 595\r\n",
      "DEBUG:root:mouse_point[_X], mouse_point[_Y]: 1366, 570\r\n",
      "INFO:root:Current Frame: 540 / 595\r\n",
      "DEBUG:root:mouse_point[_X], mouse_point[_Y]: 1732, 475\r\n",
      "INFO:root:Current Frame: 570 / 595\r\n",
      "DEBUG:root:mouse_point[_X], mouse_point[_Y]: 1899, 194\r\n",
      "INFO:root:Current Frame: 595 / 595\r\n",
      "INFO:root:Input stream ended...\r\n"
     ]
    }
   ],
   "source": [
    "!cat stderr.log"
   ]
  },
  {
   "cell_type": "markdown",
   "metadata": {},
   "source": [
    "## FP32\n",
    "\n",
    "same procedures for precision FP32"
   ]
  },
  {
   "cell_type": "markdown",
   "metadata": {},
   "source": [
    "## Step 1.9: Intel CPU"
   ]
  },
  {
   "cell_type": "code",
   "execution_count": 38,
   "metadata": {},
   "outputs": [
    {
     "name": "stdout",
     "output_type": "stream",
     "text": [
      "S1K4DXGRhGxJY8BuVRzNq1yaZiOaaAOf\n"
     ]
    }
   ],
   "source": [
    "#Submit job to the queue\n",
    "cpu_job_id = !qsub queue_job.sh -d . -l nodes=1:tank-870:i5-6500te -F \"CPU /output/results/FP32/cpu FP32\"\n",
    "\n",
    "print(cpu_job_id[0])"
   ]
  },
  {
   "cell_type": "markdown",
   "metadata": {},
   "source": [
    "#### Get Results\n",
    "\n",
    "Run the next cell to retrieve your job's results."
   ]
  },
  {
   "cell_type": "code",
   "execution_count": 39,
   "metadata": {},
   "outputs": [
    {
     "name": "stdout",
     "output_type": "stream",
     "text": [
      "getResults() is blocking until results of the job (id:S1K4DXGRhGxJY8BuVRzNq1yaZiOaaAOf) are ready.\n",
      "Please wait..............Success!\n",
      "output.tgz was downloaded in the same folder as this notebook.\n"
     ]
    }
   ],
   "source": [
    "import get_results\n",
    "get_results.getResults(cpu_job_id[0], filename='output.tgz', blocking=True)"
   ]
  },
  {
   "cell_type": "markdown",
   "metadata": {},
   "source": [
    "#### Unpack your output files and view stdout.log"
   ]
  },
  {
   "cell_type": "code",
   "execution_count": 40,
   "metadata": {},
   "outputs": [],
   "source": [
    "!tar zxf output.tgz"
   ]
  },
  {
   "cell_type": "code",
   "execution_count": 41,
   "metadata": {},
   "outputs": [
    {
     "name": "stdout",
     "output_type": "stream",
     "text": [
      "Archive:  benchmark.zip\r\n",
      "491ce158c304beea0d40a6306599592d4db96970\r\n",
      "   creating: computer-pointer-controller-benchmark/\r\n",
      "  inflating: computer-pointer-controller-benchmark/.gitignore  \r\n",
      "  inflating: computer-pointer-controller-benchmark/README.md  \r\n",
      "   creating: computer-pointer-controller-benchmark/bin/\r\n",
      " extracting: computer-pointer-controller-benchmark/bin/.gitkeep  \r\n",
      "  inflating: computer-pointer-controller-benchmark/bin/demo.mp4  \r\n",
      "   creating: computer-pointer-controller-benchmark/intel/\r\n",
      "   creating: computer-pointer-controller-benchmark/intel/face-detection-adas-binary-0001/\r\n",
      "   creating: computer-pointer-controller-benchmark/intel/face-detection-adas-binary-0001/INT1/\r\n",
      "  inflating: computer-pointer-controller-benchmark/intel/face-detection-adas-binary-0001/INT1/face-detection-adas-binary-0001.bin  \r\n",
      "  inflating: computer-pointer-controller-benchmark/intel/face-detection-adas-binary-0001/INT1/face-detection-adas-binary-0001.xml  \r\n",
      "   creating: computer-pointer-controller-benchmark/intel/gaze-estimation-adas-0002/\r\n",
      "   creating: computer-pointer-controller-benchmark/intel/gaze-estimation-adas-0002/FP16/\r\n",
      "  inflating: computer-pointer-controller-benchmark/intel/gaze-estimation-adas-0002/FP16/gaze-estimation-adas-0002.bin  \r\n",
      "  inflating: computer-pointer-controller-benchmark/intel/gaze-estimation-adas-0002/FP16/gaze-estimation-adas-0002.xml  \r\n",
      "   creating: computer-pointer-controller-benchmark/intel/gaze-estimation-adas-0002/FP32/\r\n",
      "  inflating: computer-pointer-controller-benchmark/intel/gaze-estimation-adas-0002/FP32/gaze-estimation-adas-0002.bin  \r\n",
      "  inflating: computer-pointer-controller-benchmark/intel/gaze-estimation-adas-0002/FP32/gaze-estimation-adas-0002.xml  \r\n",
      "   creating: computer-pointer-controller-benchmark/intel/gaze-estimation-adas-0002/INT8/\r\n",
      "  inflating: computer-pointer-controller-benchmark/intel/gaze-estimation-adas-0002/INT8/gaze-estimation-adas-0002.bin  \r\n",
      "  inflating: computer-pointer-controller-benchmark/intel/gaze-estimation-adas-0002/INT8/gaze-estimation-adas-0002.xml  \r\n",
      "   creating: computer-pointer-controller-benchmark/intel/head-pose-estimation-adas-0001/\r\n",
      "   creating: computer-pointer-controller-benchmark/intel/head-pose-estimation-adas-0001/FP16/\r\n",
      "  inflating: computer-pointer-controller-benchmark/intel/head-pose-estimation-adas-0001/FP16/head-pose-estimation-adas-0001.bin  \r\n",
      "  inflating: computer-pointer-controller-benchmark/intel/head-pose-estimation-adas-0001/FP16/head-pose-estimation-adas-0001.xml  \r\n",
      "   creating: computer-pointer-controller-benchmark/intel/head-pose-estimation-adas-0001/FP32/\r\n",
      "  inflating: computer-pointer-controller-benchmark/intel/head-pose-estimation-adas-0001/FP32/head-pose-estimation-adas-0001.bin  \r\n",
      "  inflating: computer-pointer-controller-benchmark/intel/head-pose-estimation-adas-0001/FP32/head-pose-estimation-adas-0001.xml  \r\n",
      "   creating: computer-pointer-controller-benchmark/intel/landmarks-regression-retail-0009/\r\n",
      "   creating: computer-pointer-controller-benchmark/intel/landmarks-regression-retail-0009/FP16/\r\n",
      "  inflating: computer-pointer-controller-benchmark/intel/landmarks-regression-retail-0009/FP16/landmarks-regression-retail-0009.bin  \r\n",
      "  inflating: computer-pointer-controller-benchmark/intel/landmarks-regression-retail-0009/FP16/landmarks-regression-retail-0009.xml  \r\n",
      "   creating: computer-pointer-controller-benchmark/intel/landmarks-regression-retail-0009/FP32/\r\n",
      "  inflating: computer-pointer-controller-benchmark/intel/landmarks-regression-retail-0009/FP32/landmarks-regression-retail-0009.bin  \r\n",
      "  inflating: computer-pointer-controller-benchmark/intel/landmarks-regression-retail-0009/FP32/landmarks-regression-retail-0009.xml  \r\n",
      "  inflating: computer-pointer-controller-benchmark/requirements.txt  \r\n",
      "   creating: computer-pointer-controller-benchmark/src/\r\n",
      "  inflating: computer-pointer-controller-benchmark/src/face_detection.py  \r\n",
      "  inflating: computer-pointer-controller-benchmark/src/facial_landmarks_detection.py  \r\n",
      "  inflating: computer-pointer-controller-benchmark/src/gaze_estimation.py  \r\n",
      "  inflating: computer-pointer-controller-benchmark/src/head_pose_estimation.py  \r\n",
      "  inflating: computer-pointer-controller-benchmark/src/input_feeder.py  \r\n",
      "  inflating: computer-pointer-controller-benchmark/src/main.py  \r\n",
      "  inflating: computer-pointer-controller-benchmark/src/model.py  \r\n",
      "  inflating: computer-pointer-controller-benchmark/src/mouse_controller.py  \r\n",
      "results/\r\n",
      "results/FP32/\r\n",
      "results/FP32/cpu/\r\n",
      "results/FP32/cpu/stats.txt\r\n",
      "results/FP32/cpu/out.mp4\r\n",
      "stderr.log\r\n"
     ]
    }
   ],
   "source": [
    "!cat stdout.log"
   ]
  },
  {
   "cell_type": "markdown",
   "metadata": {},
   "source": [
    "#### View stderr.log\n",
    "This can be used for debugging."
   ]
  },
  {
   "cell_type": "code",
   "execution_count": 42,
   "metadata": {},
   "outputs": [
    {
     "name": "stdout",
     "output_type": "stream",
     "text": [
      "  % Total    % Received % Xferd  Average Speed   Time    Time     Time  Current\r\n",
      "                                 Dload  Upload   Total   Spent    Left  Speed\r\n",
      "100   149  100   149    0     0    476      0 --:--:-- --:--:-- --:--:--   477\r\n",
      "100 31.4M    0 31.4M    0     0  2337k      0 --:--:--  0:00:13 --:--:-- 4051k\r\n",
      "INFO:root:The face-detection-adas-binary-0001 always use INT1 precision\r\n",
      "/submission/computer-pointer-controller-benchmark/src/model.py:30: DeprecationWarning: Reading network using constructor is deprecated. Please, use IECore.read_network() method instead\r\n",
      "  self.network = IENetwork(model=model_xml, weights=model_bin)\r\n",
      "ERROR:root:Cannot load library '/opt/intel/openvino/deployment_tools/inference_engine/lib/intel64/libcpu_extension_sse4.so': /opt/intel/openvino/deployment_tools/inference_engine/lib/intel64/libcpu_extension_sse4.so: cannot open shared object file: No such file or directory\r\n",
      "DEBUG:root:IR successfully loaded ../intel/face-detection-adas-binary-0001/INT1/face-detection-adas-binary-0001.xml into Inference Engine.\r\n",
      "/submission/computer-pointer-controller-benchmark/src/model.py:30: DeprecationWarning: Reading network using constructor is deprecated. Please, use IECore.read_network() method instead\r\n",
      "  self.network = IENetwork(model=model_xml, weights=model_bin)\r\n",
      "ERROR:root:Cannot load library '/opt/intel/openvino/deployment_tools/inference_engine/lib/intel64/libcpu_extension_sse4.so': /opt/intel/openvino/deployment_tools/inference_engine/lib/intel64/libcpu_extension_sse4.so: cannot open shared object file: No such file or directory\r\n",
      "DEBUG:root:IR successfully loaded ../intel/landmarks-regression-retail-0009/FP32/landmarks-regression-retail-0009.xml into Inference Engine.\r\n",
      "/submission/computer-pointer-controller-benchmark/src/model.py:30: DeprecationWarning: Reading network using constructor is deprecated. Please, use IECore.read_network() method instead\r\n",
      "  self.network = IENetwork(model=model_xml, weights=model_bin)\r\n",
      "ERROR:root:Cannot load library '/opt/intel/openvino/deployment_tools/inference_engine/lib/intel64/libcpu_extension_sse4.so': /opt/intel/openvino/deployment_tools/inference_engine/lib/intel64/libcpu_extension_sse4.so: cannot open shared object file: No such file or directory\r\n",
      "DEBUG:root:IR successfully loaded ../intel/head-pose-estimation-adas-0001/FP32/head-pose-estimation-adas-0001.xml into Inference Engine.\r\n",
      "/submission/computer-pointer-controller-benchmark/src/model.py:30: DeprecationWarning: Reading network using constructor is deprecated. Please, use IECore.read_network() method instead\r\n",
      "  self.network = IENetwork(model=model_xml, weights=model_bin)\r\n",
      "ERROR:root:Cannot load library '/opt/intel/openvino/deployment_tools/inference_engine/lib/intel64/libcpu_extension_sse4.so': /opt/intel/openvino/deployment_tools/inference_engine/lib/intel64/libcpu_extension_sse4.so: cannot open shared object file: No such file or directory\r\n",
      "DEBUG:root:IR successfully loaded ../intel/gaze-estimation-adas-0002/FP32/gaze-estimation-adas-0002.xml into Inference Engine.\r\n",
      "INFO:root:Current Frame: 30 / 595\r\n",
      "DEBUG:root:mouse_point[_X], mouse_point[_Y]: 1874, 129\r\n",
      "INFO:root:Current Frame: 60 / 595\r\n",
      "DEBUG:root:mouse_point[_X], mouse_point[_Y]: 913, 142\r\n",
      "INFO:root:Current Frame: 90 / 595\r\n",
      "DEBUG:root:mouse_point[_X], mouse_point[_Y]: 346, 687\r\n",
      "INFO:root:Current Frame: 120 / 595\r\n",
      "DEBUG:root:mouse_point[_X], mouse_point[_Y]: 544, 683\r\n",
      "INFO:root:Current Frame: 150 / 595\r\n",
      "DEBUG:root:mouse_point[_X], mouse_point[_Y]: 1586, 616\r\n",
      "INFO:root:Current Frame: 180 / 595\r\n",
      "DEBUG:root:mouse_point[_X], mouse_point[_Y]: 1788, 148\r\n",
      "INFO:root:Current Frame: 210 / 595\r\n",
      "DEBUG:root:mouse_point[_X], mouse_point[_Y]: 1675, 190\r\n",
      "INFO:root:Current Frame: 240 / 595\r\n",
      "DEBUG:root:mouse_point[_X], mouse_point[_Y]: 1572, 233\r\n",
      "INFO:root:Current Frame: 270 / 595\r\n",
      "DEBUG:root:mouse_point[_X], mouse_point[_Y]: 1421, 528\r\n",
      "INFO:root:Current Frame: 300 / 595\r\n",
      "DEBUG:root:mouse_point[_X], mouse_point[_Y]: 1900, 41\r\n",
      "INFO:root:Current Frame: 330 / 595\r\n",
      "DEBUG:root:mouse_point[_X], mouse_point[_Y]: 648, 20\r\n",
      "INFO:root:Current Frame: 360 / 595\r\n",
      "DEBUG:root:mouse_point[_X], mouse_point[_Y]: 378, 52\r\n",
      "INFO:root:Current Frame: 390 / 595\r\n",
      "DEBUG:root:mouse_point[_X], mouse_point[_Y]: 1559, 196\r\n",
      "INFO:root:Current Frame: 420 / 595\r\n",
      "DEBUG:root:mouse_point[_X], mouse_point[_Y]: 1173, 722\r\n",
      "INFO:root:Current Frame: 450 / 595\r\n",
      "DEBUG:root:mouse_point[_X], mouse_point[_Y]: 1504, 464\r\n",
      "INFO:root:Current Frame: 480 / 595\r\n",
      "DEBUG:root:mouse_point[_X], mouse_point[_Y]: 1603, 112\r\n",
      "INFO:root:Current Frame: 510 / 595\r\n",
      "DEBUG:root:mouse_point[_X], mouse_point[_Y]: 1458, 557\r\n",
      "INFO:root:Current Frame: 540 / 595\r\n",
      "DEBUG:root:mouse_point[_X], mouse_point[_Y]: 1730, 487\r\n",
      "INFO:root:Current Frame: 570 / 595\r\n",
      "DEBUG:root:mouse_point[_X], mouse_point[_Y]: 1899, 222\r\n",
      "INFO:root:Current Frame: 595 / 595\r\n",
      "INFO:root:Input stream ended...\r\n"
     ]
    }
   ],
   "source": [
    "!cat stderr.log"
   ]
  },
  {
   "cell_type": "markdown",
   "metadata": {},
   "source": [
    "## Step 2.0: CPU and IGPU"
   ]
  },
  {
   "cell_type": "code",
   "execution_count": 43,
   "metadata": {},
   "outputs": [
    {
     "name": "stdout",
     "output_type": "stream",
     "text": [
      "U0HlaJR5GcjGK2uGTVr8LcEbnjIV9ohJ\n"
     ]
    }
   ],
   "source": [
    "#Submit job to the queue\n",
    "gpu_job_id = !qsub queue_job.sh -d . -l nodes=1:tank-870:i5-6500te:intel-hd-530 -F \"HETERO:GPU,CPU /output/results/FP32/gpu FP32\"\n",
    "\n",
    "print(gpu_job_id[0])"
   ]
  },
  {
   "cell_type": "markdown",
   "metadata": {},
   "source": [
    "#### Get Results\n",
    "\n",
    "Run the next cell to retrieve your job's results."
   ]
  },
  {
   "cell_type": "code",
   "execution_count": 44,
   "metadata": {},
   "outputs": [
    {
     "name": "stdout",
     "output_type": "stream",
     "text": [
      "getResults() is blocking until results of the job (id:U0HlaJR5GcjGK2uGTVr8LcEbnjIV9ohJ) are ready.\n",
      "Please wait............................................Success!\n",
      "output.tgz was downloaded in the same folder as this notebook.\n"
     ]
    }
   ],
   "source": [
    "import get_results\n",
    "get_results.getResults(gpu_job_id[0], filename='output.tgz', blocking=True)"
   ]
  },
  {
   "cell_type": "markdown",
   "metadata": {},
   "source": [
    "#### Unpack your output files and view stdout.log"
   ]
  },
  {
   "cell_type": "code",
   "execution_count": 45,
   "metadata": {},
   "outputs": [],
   "source": [
    "!tar zxf output.tgz"
   ]
  },
  {
   "cell_type": "code",
   "execution_count": 46,
   "metadata": {},
   "outputs": [
    {
     "name": "stdout",
     "output_type": "stream",
     "text": [
      "Archive:  benchmark.zip\r\n",
      "491ce158c304beea0d40a6306599592d4db96970\r\n",
      "   creating: computer-pointer-controller-benchmark/\r\n",
      "  inflating: computer-pointer-controller-benchmark/.gitignore  \r\n",
      "  inflating: computer-pointer-controller-benchmark/README.md  \r\n",
      "   creating: computer-pointer-controller-benchmark/bin/\r\n",
      " extracting: computer-pointer-controller-benchmark/bin/.gitkeep  \r\n",
      "  inflating: computer-pointer-controller-benchmark/bin/demo.mp4  \r\n",
      "   creating: computer-pointer-controller-benchmark/intel/\r\n",
      "   creating: computer-pointer-controller-benchmark/intel/face-detection-adas-binary-0001/\r\n",
      "   creating: computer-pointer-controller-benchmark/intel/face-detection-adas-binary-0001/INT1/\r\n",
      "  inflating: computer-pointer-controller-benchmark/intel/face-detection-adas-binary-0001/INT1/face-detection-adas-binary-0001.bin  \r\n",
      "  inflating: computer-pointer-controller-benchmark/intel/face-detection-adas-binary-0001/INT1/face-detection-adas-binary-0001.xml  \r\n",
      "   creating: computer-pointer-controller-benchmark/intel/gaze-estimation-adas-0002/\r\n",
      "   creating: computer-pointer-controller-benchmark/intel/gaze-estimation-adas-0002/FP16/\r\n",
      "  inflating: computer-pointer-controller-benchmark/intel/gaze-estimation-adas-0002/FP16/gaze-estimation-adas-0002.bin  \r\n",
      "  inflating: computer-pointer-controller-benchmark/intel/gaze-estimation-adas-0002/FP16/gaze-estimation-adas-0002.xml  \r\n",
      "   creating: computer-pointer-controller-benchmark/intel/gaze-estimation-adas-0002/FP32/\r\n",
      "  inflating: computer-pointer-controller-benchmark/intel/gaze-estimation-adas-0002/FP32/gaze-estimation-adas-0002.bin  \r\n",
      "  inflating: computer-pointer-controller-benchmark/intel/gaze-estimation-adas-0002/FP32/gaze-estimation-adas-0002.xml  \r\n",
      "   creating: computer-pointer-controller-benchmark/intel/gaze-estimation-adas-0002/INT8/\r\n",
      "  inflating: computer-pointer-controller-benchmark/intel/gaze-estimation-adas-0002/INT8/gaze-estimation-adas-0002.bin  \r\n",
      "  inflating: computer-pointer-controller-benchmark/intel/gaze-estimation-adas-0002/INT8/gaze-estimation-adas-0002.xml  \r\n",
      "   creating: computer-pointer-controller-benchmark/intel/head-pose-estimation-adas-0001/\r\n",
      "   creating: computer-pointer-controller-benchmark/intel/head-pose-estimation-adas-0001/FP16/\r\n",
      "  inflating: computer-pointer-controller-benchmark/intel/head-pose-estimation-adas-0001/FP16/head-pose-estimation-adas-0001.bin  \r\n",
      "  inflating: computer-pointer-controller-benchmark/intel/head-pose-estimation-adas-0001/FP16/head-pose-estimation-adas-0001.xml  \r\n",
      "   creating: computer-pointer-controller-benchmark/intel/head-pose-estimation-adas-0001/FP32/\r\n",
      "  inflating: computer-pointer-controller-benchmark/intel/head-pose-estimation-adas-0001/FP32/head-pose-estimation-adas-0001.bin  \r\n",
      "  inflating: computer-pointer-controller-benchmark/intel/head-pose-estimation-adas-0001/FP32/head-pose-estimation-adas-0001.xml  \r\n",
      "   creating: computer-pointer-controller-benchmark/intel/landmarks-regression-retail-0009/\r\n",
      "   creating: computer-pointer-controller-benchmark/intel/landmarks-regression-retail-0009/FP16/\r\n",
      "  inflating: computer-pointer-controller-benchmark/intel/landmarks-regression-retail-0009/FP16/landmarks-regression-retail-0009.bin  \r\n",
      "  inflating: computer-pointer-controller-benchmark/intel/landmarks-regression-retail-0009/FP16/landmarks-regression-retail-0009.xml  \r\n",
      "   creating: computer-pointer-controller-benchmark/intel/landmarks-regression-retail-0009/FP32/\r\n",
      "  inflating: computer-pointer-controller-benchmark/intel/landmarks-regression-retail-0009/FP32/landmarks-regression-retail-0009.bin  \r\n",
      "  inflating: computer-pointer-controller-benchmark/intel/landmarks-regression-retail-0009/FP32/landmarks-regression-retail-0009.xml  \r\n",
      "  inflating: computer-pointer-controller-benchmark/requirements.txt  \r\n",
      "   creating: computer-pointer-controller-benchmark/src/\r\n",
      "  inflating: computer-pointer-controller-benchmark/src/face_detection.py  \r\n",
      "  inflating: computer-pointer-controller-benchmark/src/facial_landmarks_detection.py  \r\n",
      "  inflating: computer-pointer-controller-benchmark/src/gaze_estimation.py  \r\n",
      "  inflating: computer-pointer-controller-benchmark/src/head_pose_estimation.py  \r\n",
      "  inflating: computer-pointer-controller-benchmark/src/input_feeder.py  \r\n",
      "  inflating: computer-pointer-controller-benchmark/src/main.py  \r\n",
      "  inflating: computer-pointer-controller-benchmark/src/model.py  \r\n",
      "  inflating: computer-pointer-controller-benchmark/src/mouse_controller.py  \r\n",
      "conv4_3_0_norm_mbox_loc_perm is GPU\r\n",
      "conv4_3_norm_mbox_loc_perm is GPU\r\n",
      "fc7_mbox_loc_perm is GPU\r\n",
      "conv6_2_mbox_loc_perm is GPU\r\n",
      "conv7_2_mbox_loc_perm is GPU\r\n",
      "conv8_2_mbox_loc_perm is GPU\r\n",
      "conv9_2_mbox_loc_perm is GPU\r\n",
      "mbox_conf_reshape is GPU\r\n",
      "conv9_2_mbox_conf_perm is GPU\r\n",
      "conv8_2_mbox_conf_perm is GPU\r\n",
      "conv7_2_mbox_conf_perm is GPU\r\n",
      "conv6_2_mbox_conf_perm is GPU\r\n",
      "fc7_mbox_conf_perm is GPU\r\n",
      "conv4_3_0_norm_mbox_conf_perm is GPU\r\n",
      "conv4_3_norm_mbox_conf_perm is GPU\r\n",
      "712_const is GPU\r\n",
      "714_const is GPU\r\n",
      "720_const is GPU\r\n",
      "722_const is GPU\r\n",
      "728_const is GPU\r\n",
      "730_const is GPU\r\n",
      "736_const is GPU\r\n",
      "738_const is GPU\r\n",
      "744_const is GPU\r\n",
      "746_const is GPU\r\n",
      "752_const is GPU\r\n",
      "754_const is GPU\r\n",
      "760_const is GPU\r\n",
      "762_const is GPU\r\n",
      "768_const is GPU\r\n",
      "770_const is GPU\r\n",
      "776_const is GPU\r\n",
      "778_const is GPU\r\n",
      "784_const is GPU\r\n",
      "786_const is GPU\r\n",
      "792_const is GPU\r\n",
      "794_const is GPU\r\n",
      "Copy_L0008_ActivationBin-back_bone_seq.conv2_2_sep_relubin_bin_conv_BIN01/Input_1/Output_0/Data_1184_const is GPU\r\n",
      "Copy_L0008_ActivationBin-back_bone_seq.conv2_2_sep_relubin_bin_conv_BIN01/Input_1/Output_0/Data__const is GPU\r\n",
      "Copy_L0013_ActivationBin-back_bone_seq.conv3_1_sep_relubin_bin_conv_BIN01/Input_1/Output_0/Data_1182_const is GPU\r\n",
      "Copy_L0013_ActivationBin-back_bone_seq.conv3_1_sep_relubin_bin_conv_BIN01/Input_1/Output_0/Data__const is GPU\r\n",
      "Copy_L0018_ActivationBin-back_bone_seq.conv3_2_sep_relubin_bin_conv_BIN01/Input_1/Output_0/Data_1192_const is GPU\r\n",
      "Copy_L0018_ActivationBin-back_bone_seq.conv3_2_sep_relubin_bin_conv_BIN01/Input_1/Output_0/Data__const is GPU\r\n",
      "Copy_L0023_ActivationBin-back_bone_seq.conv4_1_sep_relubin_bin_conv_BIN01/Input_1/Output_0/Data_1174_const is GPU\r\n",
      "Copy_L0023_ActivationBin-back_bone_seq.conv4_1_sep_relubin_bin_conv_BIN01/Input_1/Output_0/Data__const is GPU\r\n",
      "Copy_L0028_ActivationBin-back_bone_seq.conv4_2_sep_relubin_bin_conv_BIN01/Input_1/Output_0/Data_1178_const is GPU\r\n",
      "Copy_L0028_ActivationBin-back_bone_seq.conv4_2_sep_relubin_bin_conv_BIN01/Input_1/Output_0/Data__const is GPU\r\n",
      "Copy_L0033_ActivationBin-back_bone_seq.conv5_1_sep_relubin_bin_conv_BIN01/Input_1/Output_0/Data_1172_const is GPU\r\n",
      "Copy_L0033_ActivationBin-back_bone_seq.conv5_1_sep_relubin_bin_conv_BIN01/Input_1/Output_0/Data__const is GPU\r\n",
      "Copy_L0038_ActivationBin-back_bone_seq.conv5_2_sep_relubin_bin_conv_BIN01/Input_1/Output_0/Data_1180_const is GPU\r\n",
      "Copy_L0038_ActivationBin-back_bone_seq.conv5_2_sep_relubin_bin_conv_BIN01/Input_1/Output_0/Data__const is GPU\r\n",
      "Copy_L0043_ActivationBin-back_bone_seq.conv5_3_sep_relubin_bin_conv_BIN01/Input_1/Output_0/Data_1176_const is GPU\r\n",
      "Copy_L0043_ActivationBin-back_bone_seq.conv5_3_sep_relubin_bin_conv_BIN01/Input_1/Output_0/Data__const is GPU\r\n",
      "Copy_L0048_ActivationBin-back_bone_seq.conv5_4_sep_relubin_bin_conv_BIN01/Input_1/Output_0/Data_1186_const is GPU\r\n",
      "Copy_L0048_ActivationBin-back_bone_seq.conv5_4_sep_relubin_bin_conv_BIN01/Input_1/Output_0/Data__const is GPU\r\n",
      "Copy_L0053_ActivationBin-back_bone_seq.conv5_5_sep_relubin_bin_conv_BIN01/Input_1/Output_0/Data_1188_const is GPU\r\n",
      "Copy_L0053_ActivationBin-back_bone_seq.conv5_5_sep_relubin_bin_conv_BIN01/Input_1/Output_0/Data__const is GPU\r\n",
      "Copy_L0060_ActivationBin-back_bone_seq.conv5_6_sep_relubin_bin_conv_BIN01/Input_1/Output_0/Data_1190_const is GPU\r\n",
      "Copy_L0060_ActivationBin-back_bone_seq.conv5_6_sep_relubin_bin_conv_BIN01/Input_1/Output_0/Data__const is GPU\r\n",
      "mbox_conf_reshape/DimData_const is GPU\r\n",
      "conv4_3_0_norm_mbox_loc_perm is GPU\r\n",
      "conv4_3_norm_mbox_loc_perm is GPU\r\n",
      "fc7_mbox_loc_perm is GPU\r\n",
      "conv6_2_mbox_loc_perm is GPU\r\n",
      "conv7_2_mbox_loc_perm is GPU\r\n",
      "conv8_2_mbox_loc_perm is GPU\r\n",
      "conv9_2_mbox_loc_perm is GPU\r\n",
      "mbox_conf_reshape is GPU\r\n",
      "conv9_2_mbox_conf_perm is GPU\r\n",
      "conv8_2_mbox_conf_perm is GPU\r\n",
      "conv7_2_mbox_conf_perm is GPU\r\n",
      "conv6_2_mbox_conf_perm is GPU\r\n",
      "fc7_mbox_conf_perm is GPU\r\n",
      "conv4_3_0_norm_mbox_conf_perm is GPU\r\n",
      "conv4_3_norm_mbox_conf_perm is GPU\r\n",
      "712_const is GPU\r\n",
      "714_const is GPU\r\n",
      "720_const is GPU\r\n",
      "722_const is GPU\r\n",
      "728_const is GPU\r\n",
      "730_const is GPU\r\n",
      "736_const is GPU\r\n",
      "738_const is GPU\r\n",
      "744_const is GPU\r\n",
      "746_const is GPU\r\n",
      "752_const is GPU\r\n",
      "754_const is GPU\r\n",
      "760_const is GPU\r\n",
      "762_const is GPU\r\n",
      "768_const is GPU\r\n",
      "770_const is GPU\r\n",
      "776_const is GPU\r\n",
      "778_const is GPU\r\n",
      "784_const is GPU\r\n",
      "786_const is GPU\r\n",
      "792_const is GPU\r\n",
      "794_const is GPU\r\n",
      "Copy_L0008_ActivationBin-back_bone_seq.conv2_2_sep_relubin_bin_conv_BIN01/Input_1/Output_0/Data_1184_const is GPU\r\n",
      "Copy_L0008_ActivationBin-back_bone_seq.conv2_2_sep_relubin_bin_conv_BIN01/Input_1/Output_0/Data__const is GPU\r\n",
      "Copy_L0013_ActivationBin-back_bone_seq.conv3_1_sep_relubin_bin_conv_BIN01/Input_1/Output_0/Data_1182_const is GPU\r\n",
      "Copy_L0013_ActivationBin-back_bone_seq.conv3_1_sep_relubin_bin_conv_BIN01/Input_1/Output_0/Data__const is GPU\r\n",
      "Copy_L0018_ActivationBin-back_bone_seq.conv3_2_sep_relubin_bin_conv_BIN01/Input_1/Output_0/Data_1192_const is GPU\r\n",
      "Copy_L0018_ActivationBin-back_bone_seq.conv3_2_sep_relubin_bin_conv_BIN01/Input_1/Output_0/Data__const is GPU\r\n",
      "Copy_L0023_ActivationBin-back_bone_seq.conv4_1_sep_relubin_bin_conv_BIN01/Input_1/Output_0/Data_1174_const is GPU\r\n",
      "Copy_L0023_ActivationBin-back_bone_seq.conv4_1_sep_relubin_bin_conv_BIN01/Input_1/Output_0/Data__const is GPU\r\n",
      "Copy_L0028_ActivationBin-back_bone_seq.conv4_2_sep_relubin_bin_conv_BIN01/Input_1/Output_0/Data_1178_const is GPU\r\n",
      "Copy_L0028_ActivationBin-back_bone_seq.conv4_2_sep_relubin_bin_conv_BIN01/Input_1/Output_0/Data__const is GPU\r\n",
      "Copy_L0033_ActivationBin-back_bone_seq.conv5_1_sep_relubin_bin_conv_BIN01/Input_1/Output_0/Data_1172_const is GPU\r\n",
      "Copy_L0033_ActivationBin-back_bone_seq.conv5_1_sep_relubin_bin_conv_BIN01/Input_1/Output_0/Data__const is GPU\r\n",
      "Copy_L0038_ActivationBin-back_bone_seq.conv5_2_sep_relubin_bin_conv_BIN01/Input_1/Output_0/Data_1180_const is GPU\r\n",
      "Copy_L0038_ActivationBin-back_bone_seq.conv5_2_sep_relubin_bin_conv_BIN01/Input_1/Output_0/Data__const is GPU\r\n",
      "Copy_L0043_ActivationBin-back_bone_seq.conv5_3_sep_relubin_bin_conv_BIN01/Input_1/Output_0/Data_1176_const is GPU\r\n",
      "Copy_L0043_ActivationBin-back_bone_seq.conv5_3_sep_relubin_bin_conv_BIN01/Input_1/Output_0/Data__const is GPU\r\n",
      "Copy_L0048_ActivationBin-back_bone_seq.conv5_4_sep_relubin_bin_conv_BIN01/Input_1/Output_0/Data_1186_const is GPU\r\n",
      "Copy_L0048_ActivationBin-back_bone_seq.conv5_4_sep_relubin_bin_conv_BIN01/Input_1/Output_0/Data__const is GPU\r\n",
      "Copy_L0053_ActivationBin-back_bone_seq.conv5_5_sep_relubin_bin_conv_BIN01/Input_1/Output_0/Data_1188_const is GPU\r\n",
      "Copy_L0053_ActivationBin-back_bone_seq.conv5_5_sep_relubin_bin_conv_BIN01/Input_1/Output_0/Data__const is GPU\r\n",
      "Copy_L0060_ActivationBin-back_bone_seq.conv5_6_sep_relubin_bin_conv_BIN01/Input_1/Output_0/Data_1190_const is GPU\r\n",
      "Copy_L0060_ActivationBin-back_bone_seq.conv5_6_sep_relubin_bin_conv_BIN01/Input_1/Output_0/Data__const is GPU\r\n",
      "mbox_conf_reshape/DimData_const is GPU\r\n",
      "130 is GPU\r\n",
      "129/Output_0/Data__const is GPU\r\n",
      "138 is GPU\r\n",
      "137/Output_0/Data__const is GPU\r\n",
      "140/Dims/Output_0/Data__const is GPU\r\n",
      "141/Dims/Output_0/Data__const is GPU\r\n",
      "150/Dims/Output_0/Data__const is GPU\r\n",
      "gaze_vector/Dims/Output_0/Data__const is GPU\r\n",
      "130 is GPU\r\n",
      "129/Output_0/Data__const is GPU\r\n",
      "138 is GPU\r\n",
      "137/Output_0/Data__const is GPU\r\n",
      "140/Dims/Output_0/Data__const is GPU\r\n",
      "141/Dims/Output_0/Data__const is GPU\r\n",
      "150/Dims/Output_0/Data__const is GPU\r\n",
      "gaze_vector/Dims/Output_0/Data__const is GPU\r\n",
      "results/\r\n",
      "results/FP32/\r\n",
      "results/FP32/gpu/\r\n",
      "results/FP32/gpu/stats.txt\r\n",
      "results/FP32/gpu/out.mp4\r\n",
      "stderr.log\r\n"
     ]
    }
   ],
   "source": [
    "!cat stdout.log"
   ]
  },
  {
   "cell_type": "markdown",
   "metadata": {},
   "source": [
    "#### View stderr.log\n",
    "This can be used for debugging."
   ]
  },
  {
   "cell_type": "code",
   "execution_count": 47,
   "metadata": {},
   "outputs": [
    {
     "name": "stdout",
     "output_type": "stream",
     "text": [
      "  % Total    % Received % Xferd  Average Speed   Time    Time     Time  Current\r\n",
      "                                 Dload  Upload   Total   Spent    Left  Speed\r\n",
      "100   149  100   149    0     0   1095      0 --:--:-- --:--:-- --:--:--  1103\r\n",
      "100 31.4M    0 31.4M    0     0  13.6M      0 --:--:--  0:00:02 --:--:-- 15.0M\r\n",
      "INFO:root:The face-detection-adas-binary-0001 always use INT1 precision\r\n",
      "/submission/computer-pointer-controller-benchmark/src/model.py:30: DeprecationWarning: Reading network using constructor is deprecated. Please, use IECore.read_network() method instead\r\n",
      "  self.network = IENetwork(model=model_xml, weights=model_bin)\r\n",
      "ERROR:root:Cannot load library '/opt/intel/openvino/deployment_tools/inference_engine/lib/intel64/libcpu_extension_sse4.so': /opt/intel/openvino/deployment_tools/inference_engine/lib/intel64/libcpu_extension_sse4.so: cannot open shared object file: No such file or directory\r\n",
      "DEBUG:root:IR successfully loaded ../intel/face-detection-adas-binary-0001/INT1/face-detection-adas-binary-0001.xml into Inference Engine.\r\n",
      "/submission/computer-pointer-controller-benchmark/src/model.py:30: DeprecationWarning: Reading network using constructor is deprecated. Please, use IECore.read_network() method instead\r\n",
      "  self.network = IENetwork(model=model_xml, weights=model_bin)\r\n",
      "ERROR:root:Cannot load library '/opt/intel/openvino/deployment_tools/inference_engine/lib/intel64/libcpu_extension_sse4.so': /opt/intel/openvino/deployment_tools/inference_engine/lib/intel64/libcpu_extension_sse4.so: cannot open shared object file: No such file or directory\r\n",
      "DEBUG:root:IR successfully loaded ../intel/landmarks-regression-retail-0009/FP32/landmarks-regression-retail-0009.xml into Inference Engine.\r\n",
      "/submission/computer-pointer-controller-benchmark/src/model.py:30: DeprecationWarning: Reading network using constructor is deprecated. Please, use IECore.read_network() method instead\r\n",
      "  self.network = IENetwork(model=model_xml, weights=model_bin)\r\n",
      "ERROR:root:Cannot load library '/opt/intel/openvino/deployment_tools/inference_engine/lib/intel64/libcpu_extension_sse4.so': /opt/intel/openvino/deployment_tools/inference_engine/lib/intel64/libcpu_extension_sse4.so: cannot open shared object file: No such file or directory\r\n",
      "DEBUG:root:IR successfully loaded ../intel/head-pose-estimation-adas-0001/FP32/head-pose-estimation-adas-0001.xml into Inference Engine.\r\n",
      "/submission/computer-pointer-controller-benchmark/src/model.py:30: DeprecationWarning: Reading network using constructor is deprecated. Please, use IECore.read_network() method instead\r\n",
      "  self.network = IENetwork(model=model_xml, weights=model_bin)\r\n",
      "ERROR:root:Cannot load library '/opt/intel/openvino/deployment_tools/inference_engine/lib/intel64/libcpu_extension_sse4.so': /opt/intel/openvino/deployment_tools/inference_engine/lib/intel64/libcpu_extension_sse4.so: cannot open shared object file: No such file or directory\r\n",
      "DEBUG:root:IR successfully loaded ../intel/gaze-estimation-adas-0002/FP32/gaze-estimation-adas-0002.xml into Inference Engine.\r\n",
      "INFO:root:Current Frame: 30 / 595\r\n",
      "DEBUG:root:mouse_point[_X], mouse_point[_Y]: 1874, 129\r\n",
      "INFO:root:Current Frame: 60 / 595\r\n",
      "DEBUG:root:mouse_point[_X], mouse_point[_Y]: 913, 142\r\n",
      "INFO:root:Current Frame: 90 / 595\r\n",
      "DEBUG:root:mouse_point[_X], mouse_point[_Y]: 346, 687\r\n",
      "INFO:root:Current Frame: 120 / 595\r\n",
      "DEBUG:root:mouse_point[_X], mouse_point[_Y]: 544, 683\r\n",
      "INFO:root:Current Frame: 150 / 595\r\n",
      "DEBUG:root:mouse_point[_X], mouse_point[_Y]: 1586, 616\r\n",
      "INFO:root:Current Frame: 180 / 595\r\n",
      "DEBUG:root:mouse_point[_X], mouse_point[_Y]: 1788, 148\r\n",
      "INFO:root:Current Frame: 210 / 595\r\n",
      "DEBUG:root:mouse_point[_X], mouse_point[_Y]: 1675, 190\r\n",
      "INFO:root:Current Frame: 240 / 595\r\n",
      "DEBUG:root:mouse_point[_X], mouse_point[_Y]: 1572, 233\r\n",
      "INFO:root:Current Frame: 270 / 595\r\n",
      "DEBUG:root:mouse_point[_X], mouse_point[_Y]: 1421, 528\r\n",
      "INFO:root:Current Frame: 300 / 595\r\n",
      "DEBUG:root:mouse_point[_X], mouse_point[_Y]: 1900, 41\r\n",
      "INFO:root:Current Frame: 330 / 595\r\n",
      "DEBUG:root:mouse_point[_X], mouse_point[_Y]: 648, 20\r\n",
      "INFO:root:Current Frame: 360 / 595\r\n",
      "DEBUG:root:mouse_point[_X], mouse_point[_Y]: 378, 52\r\n",
      "INFO:root:Current Frame: 390 / 595\r\n",
      "DEBUG:root:mouse_point[_X], mouse_point[_Y]: 1559, 196\r\n",
      "INFO:root:Current Frame: 420 / 595\r\n",
      "DEBUG:root:mouse_point[_X], mouse_point[_Y]: 1173, 722\r\n",
      "INFO:root:Current Frame: 450 / 595\r\n",
      "DEBUG:root:mouse_point[_X], mouse_point[_Y]: 1489, 551\r\n",
      "INFO:root:Current Frame: 480 / 595\r\n",
      "DEBUG:root:mouse_point[_X], mouse_point[_Y]: 1603, 112\r\n",
      "INFO:root:Current Frame: 510 / 595\r\n",
      "DEBUG:root:mouse_point[_X], mouse_point[_Y]: 1458, 557\r\n",
      "INFO:root:Current Frame: 540 / 595\r\n",
      "DEBUG:root:mouse_point[_X], mouse_point[_Y]: 1730, 487\r\n",
      "INFO:root:Current Frame: 570 / 595\r\n",
      "DEBUG:root:mouse_point[_X], mouse_point[_Y]: 1899, 222\r\n",
      "INFO:root:Current Frame: 595 / 595\r\n",
      "INFO:root:Input stream ended...\r\n"
     ]
    }
   ],
   "source": [
    "!cat stderr.log"
   ]
  },
  {
   "cell_type": "markdown",
   "metadata": {},
   "source": [
    "## Step 2.1: Neural Compute Stick 2\n",
    "\n",
    "Note VPU, Neural Compute Stick 2 only supports FP16 precision."
   ]
  },
  {
   "cell_type": "markdown",
   "metadata": {},
   "source": [
    "## Step 2.2: IEI Mustang-F100-A10"
   ]
  },
  {
   "cell_type": "code",
   "execution_count": 48,
   "metadata": {},
   "outputs": [
    {
     "name": "stdout",
     "output_type": "stream",
     "text": [
      "SrjWyWs4VJ3zH7Gn4JddtAFL15hbkc48\n"
     ]
    }
   ],
   "source": [
    "#Submit job to the queue\n",
    "fpga_job_id = !qsub queue_job.sh -d . -l nodes=1:tank-870:i5-6500te:iei-mustang-f100-a10 -F \"HETERO:FPGA,CPU /output/results/FP32/fpga FP32\"\n",
    "\n",
    "print(fpga_job_id[0])"
   ]
  },
  {
   "cell_type": "markdown",
   "metadata": {},
   "source": [
    "#### Get Results\n",
    "\n",
    "Run the next cell to retrieve your job's results."
   ]
  },
  {
   "cell_type": "code",
   "execution_count": 49,
   "metadata": {},
   "outputs": [
    {
     "name": "stdout",
     "output_type": "stream",
     "text": [
      "getResults() is blocking until results of the job (id:SrjWyWs4VJ3zH7Gn4JddtAFL15hbkc48) are ready.\n",
      "Please wait.......................Success!\n",
      "output.tgz was downloaded in the same folder as this notebook.\n"
     ]
    }
   ],
   "source": [
    "import get_results\n",
    "get_results.getResults(fpga_job_id[0], filename='output.tgz', blocking=True)"
   ]
  },
  {
   "cell_type": "markdown",
   "metadata": {},
   "source": [
    "#### Unpack your output files and view stdout.log"
   ]
  },
  {
   "cell_type": "code",
   "execution_count": 50,
   "metadata": {},
   "outputs": [],
   "source": [
    "!tar zxf output.tgz"
   ]
  },
  {
   "cell_type": "code",
   "execution_count": 51,
   "metadata": {},
   "outputs": [
    {
     "name": "stdout",
     "output_type": "stream",
     "text": [
      "Archive:  benchmark.zip\r\n",
      "491ce158c304beea0d40a6306599592d4db96970\r\n",
      "   creating: computer-pointer-controller-benchmark/\r\n",
      "  inflating: computer-pointer-controller-benchmark/.gitignore  \r\n",
      "  inflating: computer-pointer-controller-benchmark/README.md  \r\n",
      "   creating: computer-pointer-controller-benchmark/bin/\r\n",
      " extracting: computer-pointer-controller-benchmark/bin/.gitkeep  \r\n",
      "  inflating: computer-pointer-controller-benchmark/bin/demo.mp4  \r\n",
      "   creating: computer-pointer-controller-benchmark/intel/\r\n",
      "   creating: computer-pointer-controller-benchmark/intel/face-detection-adas-binary-0001/\r\n",
      "   creating: computer-pointer-controller-benchmark/intel/face-detection-adas-binary-0001/INT1/\r\n",
      "  inflating: computer-pointer-controller-benchmark/intel/face-detection-adas-binary-0001/INT1/face-detection-adas-binary-0001.bin  \r\n",
      "  inflating: computer-pointer-controller-benchmark/intel/face-detection-adas-binary-0001/INT1/face-detection-adas-binary-0001.xml  \r\n",
      "   creating: computer-pointer-controller-benchmark/intel/gaze-estimation-adas-0002/\r\n",
      "   creating: computer-pointer-controller-benchmark/intel/gaze-estimation-adas-0002/FP16/\r\n",
      "  inflating: computer-pointer-controller-benchmark/intel/gaze-estimation-adas-0002/FP16/gaze-estimation-adas-0002.bin  \r\n",
      "  inflating: computer-pointer-controller-benchmark/intel/gaze-estimation-adas-0002/FP16/gaze-estimation-adas-0002.xml  \r\n",
      "   creating: computer-pointer-controller-benchmark/intel/gaze-estimation-adas-0002/FP32/\r\n",
      "  inflating: computer-pointer-controller-benchmark/intel/gaze-estimation-adas-0002/FP32/gaze-estimation-adas-0002.bin  \r\n",
      "  inflating: computer-pointer-controller-benchmark/intel/gaze-estimation-adas-0002/FP32/gaze-estimation-adas-0002.xml  \r\n",
      "   creating: computer-pointer-controller-benchmark/intel/gaze-estimation-adas-0002/INT8/\r\n",
      "  inflating: computer-pointer-controller-benchmark/intel/gaze-estimation-adas-0002/INT8/gaze-estimation-adas-0002.bin  \r\n",
      "  inflating: computer-pointer-controller-benchmark/intel/gaze-estimation-adas-0002/INT8/gaze-estimation-adas-0002.xml  \r\n",
      "   creating: computer-pointer-controller-benchmark/intel/head-pose-estimation-adas-0001/\r\n",
      "   creating: computer-pointer-controller-benchmark/intel/head-pose-estimation-adas-0001/FP16/\r\n",
      "  inflating: computer-pointer-controller-benchmark/intel/head-pose-estimation-adas-0001/FP16/head-pose-estimation-adas-0001.bin  \r\n",
      "  inflating: computer-pointer-controller-benchmark/intel/head-pose-estimation-adas-0001/FP16/head-pose-estimation-adas-0001.xml  \r\n",
      "   creating: computer-pointer-controller-benchmark/intel/head-pose-estimation-adas-0001/FP32/\r\n",
      "  inflating: computer-pointer-controller-benchmark/intel/head-pose-estimation-adas-0001/FP32/head-pose-estimation-adas-0001.bin  \r\n",
      "  inflating: computer-pointer-controller-benchmark/intel/head-pose-estimation-adas-0001/FP32/head-pose-estimation-adas-0001.xml  \r\n",
      "   creating: computer-pointer-controller-benchmark/intel/landmarks-regression-retail-0009/\r\n",
      "   creating: computer-pointer-controller-benchmark/intel/landmarks-regression-retail-0009/FP16/\r\n",
      "  inflating: computer-pointer-controller-benchmark/intel/landmarks-regression-retail-0009/FP16/landmarks-regression-retail-0009.bin  \r\n",
      "  inflating: computer-pointer-controller-benchmark/intel/landmarks-regression-retail-0009/FP16/landmarks-regression-retail-0009.xml  \r\n",
      "   creating: computer-pointer-controller-benchmark/intel/landmarks-regression-retail-0009/FP32/\r\n",
      "  inflating: computer-pointer-controller-benchmark/intel/landmarks-regression-retail-0009/FP32/landmarks-regression-retail-0009.bin  \r\n",
      "  inflating: computer-pointer-controller-benchmark/intel/landmarks-regression-retail-0009/FP32/landmarks-regression-retail-0009.xml  \r\n",
      "  inflating: computer-pointer-controller-benchmark/requirements.txt  \r\n",
      "   creating: computer-pointer-controller-benchmark/src/\r\n",
      "  inflating: computer-pointer-controller-benchmark/src/face_detection.py  \r\n",
      "  inflating: computer-pointer-controller-benchmark/src/facial_landmarks_detection.py  \r\n",
      "  inflating: computer-pointer-controller-benchmark/src/gaze_estimation.py  \r\n",
      "  inflating: computer-pointer-controller-benchmark/src/head_pose_estimation.py  \r\n",
      "  inflating: computer-pointer-controller-benchmark/src/input_feeder.py  \r\n",
      "  inflating: computer-pointer-controller-benchmark/src/main.py  \r\n",
      "  inflating: computer-pointer-controller-benchmark/src/model.py  \r\n",
      "  inflating: computer-pointer-controller-benchmark/src/mouse_controller.py  \r\n",
      "INTELFPGAOCLSDKROOT is not set\r\n",
      "Using script's current directory (/opt/altera/aocl-pro-rte/aclrte-linux64)\r\n",
      "\r\n",
      "aoc was not found, but aocl was found. Assuming only RTE is installed.\r\n",
      "\r\n",
      "AOCL_BOARD_PACKAGE_ROOT is set to /opt/intel/openvino/bitstreams/a10_vision_design_sg2_bitstreams/BSP/a10_1150_sg2. Using that.\r\n",
      "Adding /opt/altera/aocl-pro-rte/aclrte-linux64/bin to PATH\r\n",
      "Adding /opt/altera/aocl-pro-rte/aclrte-linux64/linux64/lib to LD_LIBRARY_PATH\r\n",
      "Adding /opt/altera/aocl-pro-rte/aclrte-linux64/host/linux64/lib to LD_LIBRARY_PATH\r\n",
      "Adding /opt/intel/openvino/bitstreams/a10_vision_design_sg2_bitstreams/BSP/a10_1150_sg2/linux64/lib to LD_LIBRARY_PATH\r\n",
      "aocl program: Running program from /opt/intel/openvino/bitstreams/a10_vision_design_sg2_bitstreams/BSP/a10_1150_sg2/linux64/libexec\r\n",
      "Failed to open file: /opt/intel/openvino/bitstreams/a10_vision_design_sg2_bitstreams/2020-2_PL2_FP16_MobileNet_Clamp.aocx\r\n",
      "Error: Failed to find aocx\r\n",
      "aocl program: Program failed.\r\n",
      "results/\r\n",
      "results/FP32/\r\n",
      "results/FP32/fpga/\r\n",
      "results/FP32/fpga/stats.txt\r\n",
      "results/FP32/fpga/out.mp4\r\n",
      "stderr.log\r\n"
     ]
    }
   ],
   "source": [
    "!cat stdout.log"
   ]
  },
  {
   "cell_type": "markdown",
   "metadata": {},
   "source": [
    "#### View stderr.log\n",
    "This can be used for debugging."
   ]
  },
  {
   "cell_type": "code",
   "execution_count": 52,
   "metadata": {},
   "outputs": [
    {
     "name": "stdout",
     "output_type": "stream",
     "text": [
      "  % Total    % Received % Xferd  Average Speed   Time    Time     Time  Current\r\n",
      "                                 Dload  Upload   Total   Spent    Left  Speed\r\n",
      "100   149    0   149    0     0    416      0 --:--:-- --:--:-- --:--:--   417\r\n",
      "100 31.4M  100 31.4M    0     0  17.5M      0  0:00:01  0:00:01 --:--:-- 23.6M\r\n",
      "Couldn't open file /opt/intel/openvino/bitstreams/a10_vision_design_sg2_bitstreams/2020-2_PL2_FP16_MobileNet_Clamp.aocx for reading\r\n",
      "INFO:root:The face-detection-adas-binary-0001 always use INT1 precision\r\n",
      "/submission/computer-pointer-controller-benchmark/src/model.py:30: DeprecationWarning: Reading network using constructor is deprecated. Please, use IECore.read_network() method instead\r\n",
      "  self.network = IENetwork(model=model_xml, weights=model_bin)\r\n",
      "ERROR:root:Cannot load library '/opt/intel/openvino/deployment_tools/inference_engine/lib/intel64/libcpu_extension_sse4.so': /opt/intel/openvino/deployment_tools/inference_engine/lib/intel64/libcpu_extension_sse4.so: cannot open shared object file: No such file or directory\r\n",
      "DEBUG:root:IR successfully loaded ../intel/face-detection-adas-binary-0001/INT1/face-detection-adas-binary-0001.xml into Inference Engine.\r\n",
      "/submission/computer-pointer-controller-benchmark/src/model.py:30: DeprecationWarning: Reading network using constructor is deprecated. Please, use IECore.read_network() method instead\r\n",
      "  self.network = IENetwork(model=model_xml, weights=model_bin)\r\n",
      "ERROR:root:Cannot load library '/opt/intel/openvino/deployment_tools/inference_engine/lib/intel64/libcpu_extension_sse4.so': /opt/intel/openvino/deployment_tools/inference_engine/lib/intel64/libcpu_extension_sse4.so: cannot open shared object file: No such file or directory\r\n",
      "DEBUG:root:IR successfully loaded ../intel/landmarks-regression-retail-0009/FP32/landmarks-regression-retail-0009.xml into Inference Engine.\r\n",
      "/submission/computer-pointer-controller-benchmark/src/model.py:30: DeprecationWarning: Reading network using constructor is deprecated. Please, use IECore.read_network() method instead\r\n",
      "  self.network = IENetwork(model=model_xml, weights=model_bin)\r\n",
      "ERROR:root:Cannot load library '/opt/intel/openvino/deployment_tools/inference_engine/lib/intel64/libcpu_extension_sse4.so': /opt/intel/openvino/deployment_tools/inference_engine/lib/intel64/libcpu_extension_sse4.so: cannot open shared object file: No such file or directory\r\n",
      "DEBUG:root:IR successfully loaded ../intel/head-pose-estimation-adas-0001/FP32/head-pose-estimation-adas-0001.xml into Inference Engine.\r\n",
      "/submission/computer-pointer-controller-benchmark/src/model.py:30: DeprecationWarning: Reading network using constructor is deprecated. Please, use IECore.read_network() method instead\r\n",
      "  self.network = IENetwork(model=model_xml, weights=model_bin)\r\n",
      "ERROR:root:Cannot load library '/opt/intel/openvino/deployment_tools/inference_engine/lib/intel64/libcpu_extension_sse4.so': /opt/intel/openvino/deployment_tools/inference_engine/lib/intel64/libcpu_extension_sse4.so: cannot open shared object file: No such file or directory\r\n",
      "DEBUG:root:IR successfully loaded ../intel/gaze-estimation-adas-0002/FP32/gaze-estimation-adas-0002.xml into Inference Engine.\r\n",
      "INFO:root:Current Frame: 30 / 595\r\n",
      "DEBUG:root:mouse_point[_X], mouse_point[_Y]: 1840, 124\r\n",
      "INFO:root:Current Frame: 60 / 595\r\n",
      "DEBUG:root:mouse_point[_X], mouse_point[_Y]: 927, 128\r\n",
      "INFO:root:Current Frame: 90 / 595\r\n",
      "DEBUG:root:mouse_point[_X], mouse_point[_Y]: 267, 683\r\n",
      "INFO:root:Current Frame: 120 / 595\r\n",
      "DEBUG:root:mouse_point[_X], mouse_point[_Y]: 499, 687\r\n",
      "INFO:root:Current Frame: 150 / 595\r\n",
      "DEBUG:root:mouse_point[_X], mouse_point[_Y]: 1613, 623\r\n",
      "INFO:root:Current Frame: 180 / 595\r\n",
      "DEBUG:root:mouse_point[_X], mouse_point[_Y]: 1819, 137\r\n",
      "INFO:root:Current Frame: 210 / 595\r\n",
      "DEBUG:root:mouse_point[_X], mouse_point[_Y]: 1732, 163\r\n",
      "INFO:root:Current Frame: 240 / 595\r\n",
      "DEBUG:root:mouse_point[_X], mouse_point[_Y]: 1569, 219\r\n",
      "INFO:root:Current Frame: 270 / 595\r\n",
      "DEBUG:root:mouse_point[_X], mouse_point[_Y]: 1457, 528\r\n",
      "INFO:root:Current Frame: 300 / 595\r\n",
      "DEBUG:root:mouse_point[_X], mouse_point[_Y]: 1900, 28\r\n",
      "INFO:root:Current Frame: 330 / 595\r\n",
      "DEBUG:root:mouse_point[_X], mouse_point[_Y]: 966, 20\r\n",
      "INFO:root:Current Frame: 360 / 595\r\n",
      "DEBUG:root:mouse_point[_X], mouse_point[_Y]: 523, 75\r\n",
      "INFO:root:Current Frame: 390 / 595\r\n",
      "DEBUG:root:mouse_point[_X], mouse_point[_Y]: 1619, 144\r\n",
      "INFO:root:Current Frame: 420 / 595\r\n",
      "DEBUG:root:mouse_point[_X], mouse_point[_Y]: 960, 725\r\n",
      "INFO:root:Current Frame: 450 / 595\r\n",
      "DEBUG:root:mouse_point[_X], mouse_point[_Y]: 1584, 486\r\n",
      "INFO:root:Current Frame: 480 / 595\r\n",
      "DEBUG:root:mouse_point[_X], mouse_point[_Y]: 1619, 89\r\n",
      "INFO:root:Current Frame: 510 / 595\r\n",
      "DEBUG:root:mouse_point[_X], mouse_point[_Y]: 1367, 570\r\n",
      "INFO:root:Current Frame: 540 / 595\r\n",
      "DEBUG:root:mouse_point[_X], mouse_point[_Y]: 1733, 475\r\n",
      "INFO:root:Current Frame: 570 / 595\r\n",
      "DEBUG:root:mouse_point[_X], mouse_point[_Y]: 1899, 194\r\n",
      "INFO:root:Current Frame: 595 / 595\r\n",
      "INFO:root:Input stream ended...\r\n"
     ]
    }
   ],
   "source": [
    "!cat stderr.log"
   ]
  },
  {
   "cell_type": "markdown",
   "metadata": {},
   "source": [
    "***Wait!***\n",
    "\n",
    "Please wait for all the inference jobs and video rendering to complete before proceeding to the next step.\n",
    "\n",
    "## Step 2: Assess Performance\n",
    "\n",
    "Run the cells below to compare the performance across all 4 devices. The following timings for the model are being compared across all 4 devices:\n",
    "\n",
    "- Model Loading Time\n",
    "- Average Inference Time\n",
    "- FPS"
   ]
  },
  {
   "cell_type": "code",
   "execution_count": 95,
   "metadata": {
    "scrolled": false
   },
   "outputs": [
    {
     "name": "stdout",
     "output_type": "stream",
     "text": [
      "defaultdict(<class 'list'>, {'INT8': [11.9, 12.0], 'FP16': [11.8, 11.9, 13.2], 'FP32': [11.6, 11.8, 13.6]})\n",
      "defaultdict(<class 'list'>, {'INT8': [1.5966386554621848, 1.5833333333333333], 'FP16': [1.6101694915254237, 1.5966386554621848, 1.4393939393939394], 'FP32': [1.6379310344827587, 1.6101694915254237, 1.397058823529412]})\n",
      "defaultdict(<class 'list'>, {'INT8': [1.0911760330200195, 71.12559509277344], 'FP16': [1.1582794189453125, 66.6885917186737, 7.649413824081421], 'FP32': [1.0869908332824707, 64.3303554058075, 7.8401970863342285]})\n",
      "defaultdict(<class 'list'>, {'INT8': ['cpu', 'gpu'], 'FP16': ['cpu', 'gpu', 'fpga'], 'FP32': ['cpu', 'gpu', 'fpga']})\n"
     ]
    }
   ],
   "source": [
    "import matplotlib.pyplot as plt\n",
    "import os\n",
    "from collections import defaultdict\n",
    "\n",
    "device_list=['cpu', 'gpu', 'fpga', 'vpu']\n",
    "precision_list=['INT8', 'FP16', 'FP32']\n",
    "\n",
    "inference_time = defaultdict(list)\n",
    "fps = defaultdict(list)\n",
    "model_load_time = defaultdict(list)\n",
    "devices = defaultdict(list)\n",
    "\n",
    "for precision in precision_list:\n",
    "    for device in device_list:\n",
    "\n",
    "        file_name = 'results/'+precision+'/'+device+'/stats.txt'\n",
    "        \n",
    "        if os.path.exists(file_name):\n",
    "            devices[precision].append(device)\n",
    "            with open(file_name, 'r') as f:\n",
    "                inference_time[precision].append(float(f.readline().split(\"\\n\")[0]))\n",
    "                fps[precision].append(float(f.readline().split(\"\\n\")[0]))\n",
    "                model_load_time[precision].append(float(f.readline().split(\"\\n\")[0]))\n",
    "\n",
    "print(inference_time)\n",
    "print(fps)\n",
    "print(model_load_time)\n",
    "print(devices)"
   ]
  },
  {
   "cell_type": "markdown",
   "metadata": {},
   "source": [
    "## INT8"
   ]
  },
  {
   "cell_type": "code",
   "execution_count": 96,
   "metadata": {},
   "outputs": [],
   "source": [
    "precision = 'INT8'"
   ]
  },
  {
   "cell_type": "code",
   "execution_count": 97,
   "metadata": {},
   "outputs": [
    {
     "data": {
      "image/png": "[encoded data removed]",
      "text/plain": [
       "<matplotlib.figure.Figure at 0x7f1eb8497780>"
      ]
     },
     "metadata": {
      "needs_background": "light"
     },
     "output_type": "display_data"
    }
   ],
   "source": [
    "plt.bar(devices[precision], inference_time[precision])\n",
    "plt.xlabel(\"Device Used\")\n",
    "plt.ylabel(\"Total Inference Time in Seconds\")\n",
    "plt.show()"
   ]
  },
  {
   "cell_type": "code",
   "execution_count": 98,
   "metadata": {},
   "outputs": [
    {
     "data": {
      "image/png": "[encoded data removed]",
      "text/plain": [
       "<matplotlib.figure.Figure at 0x7f1eb825c240>"
      ]
     },
     "metadata": {
      "needs_background": "light"
     },
     "output_type": "display_data"
    }
   ],
   "source": [
    "plt.bar(devices[precision], fps[precision])\n",
    "plt.xlabel(\"Device Used\")\n",
    "plt.ylabel(\"Frames per Second\")\n",
    "plt.show()"
   ]
  },
  {
   "cell_type": "code",
   "execution_count": 99,
   "metadata": {
    "scrolled": true
   },
   "outputs": [
    {
     "data": {
      "image/png": "[encoded data removed]",
      "text/plain": [
       "<matplotlib.figure.Figure at 0x7f1eb83b84e0>"
      ]
     },
     "metadata": {
      "needs_background": "light"
     },
     "output_type": "display_data"
    }
   ],
   "source": [
    "plt.bar(devices[precision], model_load_time[precision])\n",
    "plt.xlabel(\"Device Used\")\n",
    "plt.ylabel(\"Model Loading Time in Seconds\")\n",
    "plt.show()"
   ]
  },
  {
   "cell_type": "markdown",
   "metadata": {},
   "source": [
    "## FP16"
   ]
  },
  {
   "cell_type": "code",
   "execution_count": 100,
   "metadata": {},
   "outputs": [],
   "source": [
    "precision = 'FP16'"
   ]
  },
  {
   "cell_type": "code",
   "execution_count": 101,
   "metadata": {},
   "outputs": [
    {
     "data": {
      "image/png": "[encoded data removed]",
      "text/plain": [
       "<matplotlib.figure.Figure at 0x7f1eb8399a20>"
      ]
     },
     "metadata": {
      "needs_background": "light"
     },
     "output_type": "display_data"
    }
   ],
   "source": [
    "plt.bar(devices[precision], inference_time[precision])\n",
    "plt.xlabel(\"Device Used\")\n",
    "plt.ylabel(\"Total Inference Time in Seconds\")\n",
    "plt.show()"
   ]
  },
  {
   "cell_type": "code",
   "execution_count": 102,
   "metadata": {},
   "outputs": [
    {
     "data": {
      "image/png": "[encoded data removed]",
      "text/plain": [
       "<matplotlib.figure.Figure at 0x7f1eb7fa1898>"
      ]
     },
     "metadata": {
      "needs_background": "light"
     },
     "output_type": "display_data"
    }
   ],
   "source": [
    "plt.bar(devices[precision], fps[precision])\n",
    "plt.xlabel(\"Device Used\")\n",
    "plt.ylabel(\"Frames per Second\")\n",
    "plt.show()"
   ]
  },
  {
   "cell_type": "code",
   "execution_count": 103,
   "metadata": {},
   "outputs": [
    {
     "data": {
      "image/png": "[encoded data removed]",
      "text/plain": [
       "<matplotlib.figure.Figure at 0x7f1eb80efc88>"
      ]
     },
     "metadata": {
      "needs_background": "light"
     },
     "output_type": "display_data"
    }
   ],
   "source": [
    "plt.bar(devices[precision], model_load_time[precision])\n",
    "plt.xlabel(\"Device Used\")\n",
    "plt.ylabel(\"Model Loading Time in Seconds\")\n",
    "plt.show()"
   ]
  },
  {
   "cell_type": "markdown",
   "metadata": {},
   "source": [
    "## FP32"
   ]
  },
  {
   "cell_type": "code",
   "execution_count": 104,
   "metadata": {},
   "outputs": [],
   "source": [
    "precision = 'FP32'"
   ]
  },
  {
   "cell_type": "code",
   "execution_count": 105,
   "metadata": {},
   "outputs": [
    {
     "data": {
      "image/png": "[encoded data removed]",
      "text/plain": [
       "<matplotlib.figure.Figure at 0x7f1eb81998d0>"
      ]
     },
     "metadata": {
      "needs_background": "light"
     },
     "output_type": "display_data"
    }
   ],
   "source": [
    "plt.bar(devices[precision], inference_time[precision])\n",
    "plt.xlabel(\"Device Used\")\n",
    "plt.ylabel(\"Total Inference Time in Seconds\")\n",
    "plt.show()"
   ]
  },
  {
   "cell_type": "code",
   "execution_count": 106,
   "metadata": {},
   "outputs": [
    {
     "data": {
      "image/png": "[encoded data removed]",
      "text/plain": [
       "<matplotlib.figure.Figure at 0x7f1eb823eba8>"
      ]
     },
     "metadata": {
      "needs_background": "light"
     },
     "output_type": "display_data"
    }
   ],
   "source": [
    "plt.bar(devices[precision], fps[precision])\n",
    "plt.xlabel(\"Device Used\")\n",
    "plt.ylabel(\"Frames per Second\")\n",
    "plt.show()"
   ]
  },
  {
   "cell_type": "code",
   "execution_count": 107,
   "metadata": {},
   "outputs": [
    {
     "data": {
      "image/png": "[encoded data removed]",
      "text/plain": [
       "<matplotlib.figure.Figure at 0x7f1eb83b0a20>"
      ]
     },
     "metadata": {
      "needs_background": "light"
     },
     "output_type": "display_data"
    }
   ],
   "source": [
    "plt.bar(devices[precision], model_load_time[precision])\n",
    "plt.xlabel(\"Device Used\")\n",
    "plt.ylabel(\"Model Loading Time in Seconds\")\n",
    "plt.show()"
   ]
  },
  {
   "cell_type": "code",
   "execution_count": null,
   "metadata": {},
   "outputs": [],
   "source": []
  },
  {
   "cell_type": "code",
   "execution_count": null,
   "metadata": {},
   "outputs": [],
   "source": []
  }
 ],
 "metadata": {
  "kernelspec": {
   "display_name": "Python 3",
   "language": "python",
   "name": "python3"
  },
  "language_info": {
   "codemirror_mode": {
    "name": "ipython",
    "version": 3
   },
   "file_extension": ".py",
   "mimetype": "text/x-python",
   "name": "python",
   "nbconvert_exporter": "python",
   "pygments_lexer": "ipython3",
   "version": "3.6.3"
  }
 },
 "nbformat": 4,
 "nbformat_minor": 2
}
